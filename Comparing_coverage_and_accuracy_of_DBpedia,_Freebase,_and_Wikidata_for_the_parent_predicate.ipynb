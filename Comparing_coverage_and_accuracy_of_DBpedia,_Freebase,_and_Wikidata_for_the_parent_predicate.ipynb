{
  "nbformat": 4,
  "nbformat_minor": 0,
  "metadata": {
    "colab": {
      "name": "Comparing coverage and accuracy of DBpedia, Freebase, and Wikidata for the parent predicate",
      "provenance": [],
      "collapsed_sections": [],
      "toc_visible": true,
      "include_colab_link": true
    },
    "kernelspec": {
      "name": "python3",
      "display_name": "Python 3"
    }
  },
  "cells": [
    {
      "cell_type": "markdown",
      "metadata": {
        "id": "view-in-github",
        "colab_type": "text"
      },
      "source": [
        "<a href=\"https://colab.research.google.com/github/vrandezo/colabs/blob/master/Comparing_coverage_and_accuracy_of_DBpedia%2C_Freebase%2C_and_Wikidata_for_the_parent_predicate.ipynb\" target=\"_parent\"><img src=\"https://colab.research.google.com/assets/colab-badge.svg\" alt=\"Open In Colab\"/></a>"
      ]
    },
    {
      "cell_type": "markdown",
      "metadata": {
        "id": "I_7kJ-RGBjGq",
        "colab_type": "text"
      },
      "source": [
        "# Comparing coverage and accuracy of DBpedia, Freebase, and Wikidata for the parent predicate\n",
        "\n",
        "Author: [Denny Vrandečić](https://www.wikidata.org/wiki/User:Denny), inviting co-authors\n",
        "\n",
        "Wikidata, DBpedia, and Freebase are large knowledge bases that are all freely accessible. They work very differently and have very different histories. This notebook does not provide a comprehensive comparison of the three knowledge bases and their background, but rather looks into a single predicate and compares the coverage and accuracy of this predicate against each other. For a more comprehensive comparison, see the Section on Related Work.\n",
        "\n",
        "All the steps for the comparisons are described in detail and should be reproducible. It should not only be possible to easily redo the given analysis for the chosen predicate, but also to extend it to other predicates. Since every use case will have slightly different requirements, it should be valuable to rerun the analysis as needed.\n",
        "\n",
        "Note: the author of this comparison has been involved with creating Wikidata and shutting down Freebase. Thus, reader, be aware of possible bias (and that is also why I would very much appreciate other people to chime in and co-author).\n",
        "\n",
        "The predicate chosen is parents. Why parents?\n",
        "1. The parent predicate appears with a reasonable frequency in a general knowledge base.\n",
        "2. It is unlikely that there is a single source or project or pipeline generating all parents, so the chance is higher that the results are representative.\n",
        "3. All general knowledge bases should have a property or relation representing the parent predicate, or something very close to it (in fact, Wikidata does not have a parent property, but separate properties for mother and father - but that is easy to map).\n",
        "4. There is a comparably high level of agreement on the extension of the parent predicate.\n",
        "5. Both the domain and range of the parent predicate are simple entities with strong identities. Locations, genres, or literals like numbers, dates, or coordinates can often be subtly different without disagreeing: when one KB says that a person is born in Paris and another says that the person is born in France, both could be correct. Further analysis would be needed to account for this difference in granularity and precision. This is not the case for parents, which connects two individuals with each other.\n",
        "\n",
        "This makes parent a rather simple and pragmatic first predicate to choose for this analysis."
      ]
    },
    {
      "cell_type": "markdown",
      "metadata": {
        "id": "j6RurxxeETiS",
        "colab_type": "text"
      },
      "source": [
        "\n",
        "# Datasets\n",
        "\n",
        "We chose Wikidata, Freebase, and DBpedia as the generic knowledge bases to compare with each other. This section describes how we extracted the parent predicate from each of the three sources."
      ]
    },
    {
      "cell_type": "markdown",
      "metadata": {
        "id": "4rj52jEZFms9",
        "colab_type": "text"
      },
      "source": [
        "## Wikidata\n",
        "\n",
        "We introduce three ways to access Wikidata data:\n",
        "\n",
        "1. We can access Wikidata through the Wikidata MediaWiki API. For this see the function `o_from_sp` below. This is good for getting the values for a single entity and property pair, e.g. \"*Who is the mother of Marie Curie?*\"\n",
        "2. We can access Wikidata's SPARQL endpoint. See the function `sparql_wikidata` and `list_of_entities_from_sparql` below. The queries can be more complex and cover a larger set of entities, also with complex descriptions, e.g. \"*Who are parents of people who received Noble Prizes?*\"\n",
        "3. We can access the data through a Wikidata dump. This means we are not live querying Wikidata, but using the dump, which can be much faster as all computation is happening local. This is good for queries like \"*Who are all the parents?*\"\n",
        "\n",
        "For 1. and 2., we access the data live from Wikidata. This ensures that the data is most current. For 3., this is not possible."
      ]
    },
    {
      "cell_type": "code",
      "metadata": {
        "id": "gMMGGuYtC6bL",
        "colab_type": "code",
        "colab": {}
      },
      "source": [
        "import json\n",
        "from urllib.request import urlopen\n",
        "\n",
        "def o_from_sp(qid, pid, quiet = False):\n",
        "  url = 'https://www.wikidata.org/w/api.php?action=wbgetclaims&format=json&property=' + pid + '&entity=' + qid\n",
        "  data = json.load(urlopen(url))\n",
        "  if 'claims' not in data:\n",
        "    if not quiet: print(qid, 'no claims', data)\n",
        "    return []\n",
        "  if pid not in data['claims']:\n",
        "    return []\n",
        "  if len(data['claims'][pid]) < 1:\n",
        "    if not quiet: print(child, 'no', pid, data)\n",
        "    return []\n",
        "  vals = []\n",
        "  for v in data['claims'][pid]:\n",
        "    if 'mainsnak' not in v:\n",
        "      if not quiet: print(child, 'no mainsnak', data, v)\n",
        "      continue\n",
        "    if 'datavalue' not in v['mainsnak']:\n",
        "      if not quiet: print(child, 'no datavalue', data, v)\n",
        "      continue\n",
        "    if 'value' not in v['mainsnak']['datavalue']:\n",
        "      if not quiet: print(child, 'no datavalue', data, v)\n",
        "      continue\n",
        "    if 'id' not in v['mainsnak']['datavalue']['value']:\n",
        "      if not quiet: print(child, 'no value', data, v)\n",
        "      continue\n",
        "    vals += [v['mainsnak']['datavalue']['value']['id']]\n",
        "  return vals\n",
        "\n",
        "def get_wikidata_parents_from_api(qid, quiet = True):\n",
        "  dad = o_from_sp(qid, 'P22', quiet)\n",
        "  mom = o_from_sp(qid, 'P25', quiet)\n",
        "  return mom + dad\n",
        "\n",
        "def name_from_qid(qid, quiet = False):\n",
        "  url = 'https://www.wikidata.org/w/api.php?action=wbgetentities&format=json&ids=' + qid + '&props=labels&languagefallback=&languages=en'\n",
        "  data = json.load(urlopen(url))\n",
        "  if 'entities' not in data:\n",
        "    if not quiet: print(qid, 'no entities', data)\n",
        "    return qid\n",
        "  if qid not in data['entities']:\n",
        "    return qid\n",
        "  if 'labels' not in data['entities'][qid]:\n",
        "    return qid\n",
        "  if 'en' not in data['entities'][qid]['labels']:\n",
        "    return qid\n",
        "  if 'value' not in data['entities'][qid]['labels']['en']:\n",
        "    return qid\n",
        "  return data['entities'][qid]['labels']['en']['value']\n",
        "\n"
      ],
      "execution_count": 0,
      "outputs": []
    },
    {
      "cell_type": "code",
      "metadata": {
        "id": "SQlZYOQBpHD_",
        "colab_type": "code",
        "outputId": "609e8543-bd4e-4df1-ff53-6e39ec472e23",
        "colab": {
          "base_uri": "https://localhost:8080/",
          "height": 68
        }
      },
      "source": [
        "print(o_from_sp('Q42', 'P25'))  # who is the mother of Douglas Adams\n",
        "print(get_wikidata_parents_from_api('Q42'))\n",
        "print(name_from_qid('Q42'))"
      ],
      "execution_count": 2,
      "outputs": [
        {
          "output_type": "stream",
          "text": [
            "['Q14623678']\n",
            "['Q14623678', 'Q14623675']\n",
            "Douglas Adams\n"
          ],
          "name": "stdout"
        }
      ]
    },
    {
      "cell_type": "code",
      "metadata": {
        "id": "A-UZW696YFmJ",
        "colab_type": "code",
        "colab": {}
      },
      "source": [
        "import json\n",
        "from urllib.parse import urlencode\n",
        "\n",
        "def sparql_wikidata(query):\n",
        "  url = 'https://query.wikidata.org/sparql?'\n",
        "  params = urlencode({'format': 'json', 'query': query})\n",
        "  results = json.load(urlopen(url + params))\n",
        "  return results\n",
        "\n",
        "def list_of_entities_from_sparql(query):\n",
        "  results = sparql_wikidata(query)\n",
        "  if 'results' not in results: return []\n",
        "  if 'bindings' not in results['results']: return []\n",
        "  vals = []\n",
        "  for v in results['results']['bindings']:\n",
        "    if 'entity' not in v: continue\n",
        "    if 'type' not in v['entity']: continue\n",
        "    if v['entity']['type'] != 'uri': continue\n",
        "    if 'value' not in v['entity']: continue\n",
        "    vals += [v['entity']['value'][31:]]\n",
        "  return vals\n",
        "\n",
        "def count_from_sparql(query):\n",
        "  results = sparql_wikidata(query)\n",
        "  if 'results' not in results: return -1\n",
        "  if 'bindings' not in results['results']: return -1\n",
        "  if len(results['results']['bindings']) != 1: return -1\n",
        "  if 'count' not in results['results']['bindings'][0]: return -1\n",
        "  if 'type' not in results['results']['bindings'][0]['count']: return -1\n",
        "  if results['results']['bindings'][0]['count']['type'] != 'literal': return -1\n",
        "  if 'datatype' not in results['results']['bindings'][0]['count']: return -1\n",
        "  if results['results']['bindings'][0]['count']['datatype'] != 'http://www.w3.org/2001/XMLSchema#integer': return -1\n",
        "  if 'value' not in results['results']['bindings'][0]['count']: return -1\n",
        "  return int(results['results']['bindings'][0]['count']['value'])"
      ],
      "execution_count": 0,
      "outputs": []
    },
    {
      "cell_type": "code",
      "metadata": {
        "id": "us6cJbfgpNJX",
        "colab_type": "code",
        "outputId": "64036de3-be01-49e7-9241-0ece32da6829",
        "colab": {
          "base_uri": "https://localhost:8080/",
          "height": 51
        }
      },
      "source": [
        "query = 'select * { { wd:Q42 wdt:P25 ?entity } union { wd:Q42 wdt:P22 ?entity } }' # parents of Douglas Adams\n",
        "print(list_of_entities_from_sparql(query))\n",
        "query = 'select (count (?s) as ?count) where { { ?s wdt:P22 ?o } UNION { ?s wdt:P25 ?o } }'\n",
        "print('{:,} parent relationships in Wikidata'.format(count_from_sparql(query)))"
      ],
      "execution_count": 4,
      "outputs": [
        {
          "output_type": "stream",
          "text": [
            "['Q14623678', 'Q14623675']\n",
            "341,061 parent relationships in Wikidata\n"
          ],
          "name": "stdout"
        }
      ]
    },
    {
      "cell_type": "markdown",
      "metadata": {
        "id": "ijpJiWyDcjxW",
        "colab_type": "text"
      },
      "source": [
        "Option 3 allows us to speed things up considerably. But we cannot download the whole Wikidata dataset into a colab hosted environment, as it is 70 GB, and thus too big. We have prepared two slices, for P22 (father) and P25 (mother) and made them available for download. You can download the data with the following code.\n",
        "\n"
      ]
    },
    {
      "cell_type": "code",
      "metadata": {
        "id": "3px2kQ-Tbnqo",
        "colab_type": "code",
        "colab": {}
      },
      "source": [
        "import os\n",
        "from urllib.request import urlretrieve\n",
        "\n",
        "def download(url, file):\n",
        "  if not os.path.isfile(file):\n",
        "    print(\"Download file... \" + file + \" ...\")\n",
        "    urlretrieve(url, file)\n",
        "    print(\"File downloaded\")\n",
        "  else:\n",
        "    print(\"File already downloaded:\", file)"
      ],
      "execution_count": 0,
      "outputs": []
    },
    {
      "cell_type": "code",
      "metadata": {
        "id": "4zMm7M6naPAs",
        "colab_type": "code",
        "outputId": "4d763f2e-f505-402c-8674-a24005c5b278",
        "colab": {
          "base_uri": "https://localhost:8080/",
          "height": 85
        }
      },
      "source": [
        "download('http://simia.net/download/P22.nt.bz2', 'P22.nt.bz2')\n",
        "download('http://simia.net/download/P25.nt.bz2', 'P25.nt.bz2')"
      ],
      "execution_count": 8,
      "outputs": [
        {
          "output_type": "stream",
          "text": [
            "Download file... P22.nt.bz2 ...\n",
            "File downloaded\n",
            "Download file... P25.nt.bz2 ...\n",
            "File downloaded\n"
          ],
          "name": "stdout"
        }
      ]
    },
    {
      "cell_type": "markdown",
      "metadata": {
        "id": "6LUrV2jIJ0AR",
        "colab_type": "text"
      },
      "source": [
        "Here we describe how we created the slices.\n",
        "\n",
        "The Wikidata dataset can be downloaded from https://dumps.wikimedia.org/wikidatawiki/entities/\n",
        "\n",
        "Store the following short script as `extract.py`:\n",
        "\n",
        "```\n",
        "import bz2\n",
        "import sys\n",
        "\n",
        "prop = '<http://www.wikidata.org/prop/direct/{}>'.format(sys.argv[1])\n",
        "\n",
        "for line in bz2.open('latest-all.nt.bz2', 'r'):\n",
        "s, p, o, rest = line.decode('utf-8').strip().split(' ', 3)\n",
        "if p == prop:\n",
        "  print(s, p, o, '.')\n",
        "```\n",
        "Then the slices can be generated by (P22 is father, P25 mother):\n",
        "\n",
        "```\n",
        "wget https://dumps.wikimedia.org/wikidatawiki/entities/latest-all.nt.bz2\n",
        "python3 extract.py P22 > P22.nt\n",
        "python3 extract.py P25 > P25.nt\n",
        "bzip2 P22.nt\n",
        "bzip2 P25.nt\n",
        "```\n",
        "\n",
        "The two resulting datafiles, ```P22.nt.bz2``` and ```P25.nt.bz2```, can then be uploaded to this colab.\n",
        "\n",
        "The following short script loads them into RAM (whether the data has been uploaded from your machine or fetched from the data we provided) and extracts all parents, merging together fathers and mothers."
      ]
    },
    {
      "cell_type": "code",
      "metadata": {
        "id": "A-7RvK0785tk",
        "colab_type": "code",
        "outputId": "346c1ffa-fbb9-490d-c656-b609f4d6f3cc",
        "colab": {
          "base_uri": "https://localhost:8080/",
          "height": 85
        }
      },
      "source": [
        "import bz2\n",
        "\n",
        "wdparent = {}\n",
        "\n",
        "def count_lines(prop):\n",
        "  count = 0\n",
        "  for line in bz2.open(prop + '.nt.bz2', 'r'):\n",
        "    s, p, o, dot = line.decode('utf-8').strip().split()\n",
        "    s = s[32:-1]\n",
        "    o = o[32:-1]\n",
        "    count += 1\n",
        "    if s not in wdparent: wdparent[s] = []\n",
        "    wdparent[s] += [o]\n",
        "  return count\n",
        "\n",
        "p22count = count_lines('P22')\n",
        "p25count = count_lines('P25')\n",
        "\n",
        "print('P22 has {:,} triples'.format(p22count))\n",
        "print('P25 has {:,} triples'.format(p25count))\n",
        "print('{:,} total parent relationships'.format(p22count + p25count))\n",
        "print('{:,} children'.format(len(wdparent)))"
      ],
      "execution_count": 9,
      "outputs": [
        {
          "output_type": "stream",
          "text": [
            "P22 has 227,990 triples\n",
            "P25 has 50,344 triples\n",
            "278,334 total parent relationships\n",
            "232,995 children\n"
          ],
          "name": "stdout"
        }
      ]
    },
    {
      "cell_type": "markdown",
      "metadata": {
        "id": "DmREYLzXGAHR",
        "colab_type": "text"
      },
      "source": [
        "## Freebase\n",
        "\n",
        "Freebase uses MIDs instead of Wikidata QIDs. Thus we will also need a mapping of MIDs to QIds. We download here the mapping that is available on the Freebase download Website at https://developers.google.com/freebase/\n",
        "\n",
        "That mapping contains about 2 million mappings."
      ]
    },
    {
      "cell_type": "code",
      "metadata": {
        "id": "_EM-cH0bbiXz",
        "colab_type": "code",
        "outputId": "c82430dd-4669-431d-a175-856ee89f091b",
        "colab": {
          "base_uri": "https://localhost:8080/",
          "height": 68
        }
      },
      "source": [
        "import gzip\n",
        "\n",
        "download('http://storage.googleapis.com/freebase-public/fb2w.nt.gz', 'fb2w.nt.gz')\n",
        "\n",
        "fbmappings = {}\n",
        "\n",
        "for line in gzip.open('fb2w.nt.gz', 'r'):\n",
        "  line = line.decode('utf-8').strip()\n",
        "  if not line: continue\n",
        "  if line[0] == '#': continue\n",
        "  s, p, o = line.split('\\t')\n",
        "  fbmappings[s[28:-1]] = o[32:-3]\n",
        "\n",
        "print('{:,} mappings'.format(len(fbmappings)))\n"
      ],
      "execution_count": 10,
      "outputs": [
        {
          "output_type": "stream",
          "text": [
            "Download file... fb2w.nt.gz ...\n",
            "File downloaded\n",
            "2,096,745 mappings\n"
          ],
          "name": "stdout"
        }
      ]
    },
    {
      "cell_type": "markdown",
      "metadata": {
        "id": "aI88cInI9Wjn",
        "colab_type": "text"
      },
      "source": [
        "For Freebase itself, we take the latest dump of Freebase that was made before Freebase was shut down, and that is available from this Website: https://developers.google.com/freebase/\n",
        "\n",
        "Similarly to Wikidata, the Freebase download with 30 GB is too big to be downloaded and processed in colab. So we created a slice that can be downloaded in the following."
      ]
    },
    {
      "cell_type": "code",
      "metadata": {
        "id": "rU8liCJEhbwD",
        "colab_type": "code",
        "outputId": "6fd87807-ebdb-4e38-d37b-d07d82e73ecd",
        "colab": {
          "base_uri": "https://localhost:8080/",
          "height": 51
        }
      },
      "source": [
        "download('http://simia.net/download/parents.nt.gz', 'parents.nt.gz')"
      ],
      "execution_count": 11,
      "outputs": [
        {
          "output_type": "stream",
          "text": [
            "Download file... parents.nt.gz ...\n",
            "File downloaded\n"
          ],
          "name": "stdout"
        }
      ]
    },
    {
      "cell_type": "markdown",
      "metadata": {
        "id": "aXZ8rbLlhuDI",
        "colab_type": "text"
      },
      "source": [
        "If you want to create the slice yourself, here is the code to do so. You need to run an extractor that takes out all the parent properties. The extractor script is given here:\n",
        "\n",
        "```\n",
        "import gzip\n",
        "\n",
        "prop = '<http://rdf.freebase.com/ns/people.person.parents>'\n",
        "\n",
        "for line in gzip.open('freebase-rdf-latest.gz', 'r'):\n",
        "  s, p, o, rest = line.decode('utf-8').strip().split('\\t', 3)\n",
        "  if p == prop:\n",
        "    print(s, p, o, rest)\n",
        "\n",
        "```\n",
        "\n",
        "If that is stored as ```fbextract.py```, the following commands will produce the necessary slice:\n",
        "\n",
        "```\n",
        "wget http://commondatastorage.googleapis.com/freebase-public/rdf/freebase-rdf-latest.gz\n",
        "python3 fbextract.py > parents.nt\n",
        "gzip parents.nt\n",
        "```\n",
        "\n",
        "The resulting file ```parents.nt.gz``` then can be uploaded to this Colab and can be loaded by running the following snippet."
      ]
    },
    {
      "cell_type": "code",
      "metadata": {
        "id": "ZOx3OfxpiOdM",
        "colab_type": "code",
        "outputId": "7f6a4877-2bb5-4e51-916c-3ec1c4a3193d",
        "colab": {
          "base_uri": "https://localhost:8080/",
          "height": 85
        }
      },
      "source": [
        "def fbmap(mid):\n",
        "  mid = mid[28:-1]\n",
        "  if mid in fbmappings:\n",
        "    return fbmappings[mid]\n",
        "  return mid\n",
        "\n",
        "fbparent = {}\n",
        "triplecount = 0\n",
        "mappedcount = 0\n",
        "halfmappedcount = 0\n",
        "\n",
        "for line in gzip.open('parents.nt.gz', 'r'):\n",
        "  s, p, o, rest = line.decode('utf-8').strip().split()\n",
        "  triplecount += 1\n",
        "  s = fbmap(s)\n",
        "  o = fbmap(o)\n",
        "  if (s[0]=='Q') ^ (o[0]=='Q'): halfmappedcount += 1\n",
        "  if s[0] != 'Q': continue\n",
        "  if o[0] != 'Q': continue\n",
        "  mappedcount += 1\n",
        "  if s not in fbparent: fbparent[s] = []\n",
        "  fbparent[s] += [o]\n",
        "\n",
        "fbparentcount = triplecount\n",
        "print('{:,} unmapped parent relationships'.format(triplecount))\n",
        "print('{:,} half mapped parent relationships'.format(halfmappedcount))\n",
        "print('{:,} fully mapped parent relationships'.format(mappedcount))\n",
        "print('{:,} children'.format(len(fbparent)))\n"
      ],
      "execution_count": 12,
      "outputs": [
        {
          "output_type": "stream",
          "text": [
            "382,502 unmapped parent relationships\n",
            "141,059 half mapped parent relationships\n",
            "35,812 fully mapped parent relationships\n",
            "27,369 children\n"
          ],
          "name": "stdout"
        }
      ]
    },
    {
      "cell_type": "markdown",
      "metadata": {
        "id": "blvqq4pjcq67",
        "colab_type": "text"
      },
      "source": [
        "## DBpedia\n",
        "\n",
        "Unlike Wikidata and Freebase, DBpedia is a much more complex dataset. There is no such thing as a single DBpedia dataset that we can use. In fact, there are so called DBpedia chapters based on the local Wikipedias, and there are several dozens of those, each chapter featuring their own localized URIs for an entity and a different dataset. There is current work to evolve this situation in the next release of DBpedia, which is still under development.\n",
        "\n",
        "In order to choose the best possible accuracy for DBpedia - understanding that this can be detrimental for coverage - we choose the Mappingbased dataset. The Mappingbased data is described by DBpedia as \"*High-quality data extracted from Infoboxes using the mapping-based extraction*\" and \"*The Mapping-based Properties in the 'ontology' namespace, should always be preferred over this data.*\" We follow DBpedias advice.\n",
        "\n",
        "We choose the canoncial data. That data already maps to Wikidata QIDs. This further reduces coverage since not all entities are mapped. It can probably be safely assumed that all nonmapped triples would be wins for DBpedia coverage.\n",
        "\n",
        "DBpedia is currently undergoing a massive rewrite. Because of that, their last stable release is a bit dated and dates from October 2016:\n",
        "\n",
        "https://wiki.dbpedia.org/develop/datasets\n",
        "\n",
        "https://wiki.dbpedia.org/develop/datasets/dbpedia-version-2016-10 \n",
        "\n",
        "In the following, we download all mapping-based canonical datasets. The mappings exist for 39 chapters.\n"
      ]
    },
    {
      "cell_type": "code",
      "metadata": {
        "id": "Nc-hiJUggTsx",
        "colab_type": "code",
        "outputId": "ea6ccfdc-2469-405e-dc24-df02cd803c40",
        "colab": {
          "base_uri": "https://localhost:8080/",
          "height": 1000
        }
      },
      "source": [
        "mapped_communities = ['ar', 'az', 'be', 'bg', 'bn', 'ca', 'cs', 'cy', 'de', 'el',\n",
        "                      'en', 'eo', 'es', 'eu', 'fr', 'ga', 'gl', 'hi', 'hr', 'hu',\n",
        "                      'hy', 'id', 'it', 'ja', 'ko', 'lv', 'mk', 'nl', 'pl', 'pt',\n",
        "                      'ro', 'ru', 'sk', 'sl', 'sr', 'sv', 'tr', 'uk', 'vi']\n",
        "\n",
        "import bz2\n",
        "\n",
        "for lang in mapped_communities:\n",
        "  print(lang)\n",
        "  url = 'http://downloads.dbpedia.org/2016-10/core-i18n/' + lang + '/mappingbased_objects_wkd_uris_' + lang + '.ttl.bz2'\n",
        "  filename = 'mappingbased_objects_wkd_uris_' + lang + '.ttl.bz2'\n",
        "  download(url, filename)"
      ],
      "execution_count": 13,
      "outputs": [
        {
          "output_type": "stream",
          "text": [
            "ar\n",
            "Download file... mappingbased_objects_wkd_uris_ar.ttl.bz2 ...\n",
            "File downloaded\n",
            "az\n",
            "Download file... mappingbased_objects_wkd_uris_az.ttl.bz2 ...\n",
            "File downloaded\n",
            "be\n",
            "Download file... mappingbased_objects_wkd_uris_be.ttl.bz2 ...\n",
            "File downloaded\n",
            "bg\n",
            "Download file... mappingbased_objects_wkd_uris_bg.ttl.bz2 ...\n",
            "File downloaded\n",
            "bn\n",
            "Download file... mappingbased_objects_wkd_uris_bn.ttl.bz2 ...\n",
            "File downloaded\n",
            "ca\n",
            "Download file... mappingbased_objects_wkd_uris_ca.ttl.bz2 ...\n",
            "File downloaded\n",
            "cs\n",
            "Download file... mappingbased_objects_wkd_uris_cs.ttl.bz2 ...\n",
            "File downloaded\n",
            "cy\n",
            "Download file... mappingbased_objects_wkd_uris_cy.ttl.bz2 ...\n",
            "File downloaded\n",
            "de\n",
            "Download file... mappingbased_objects_wkd_uris_de.ttl.bz2 ...\n",
            "File downloaded\n",
            "el\n",
            "Download file... mappingbased_objects_wkd_uris_el.ttl.bz2 ...\n",
            "File downloaded\n",
            "en\n",
            "Download file... mappingbased_objects_wkd_uris_en.ttl.bz2 ...\n",
            "File downloaded\n",
            "eo\n",
            "Download file... mappingbased_objects_wkd_uris_eo.ttl.bz2 ...\n",
            "File downloaded\n",
            "es\n",
            "Download file... mappingbased_objects_wkd_uris_es.ttl.bz2 ...\n",
            "File downloaded\n",
            "eu\n",
            "Download file... mappingbased_objects_wkd_uris_eu.ttl.bz2 ...\n",
            "File downloaded\n",
            "fr\n",
            "Download file... mappingbased_objects_wkd_uris_fr.ttl.bz2 ...\n",
            "File downloaded\n",
            "ga\n",
            "Download file... mappingbased_objects_wkd_uris_ga.ttl.bz2 ...\n",
            "File downloaded\n",
            "gl\n",
            "Download file... mappingbased_objects_wkd_uris_gl.ttl.bz2 ...\n",
            "File downloaded\n",
            "hi\n",
            "Download file... mappingbased_objects_wkd_uris_hi.ttl.bz2 ...\n",
            "File downloaded\n",
            "hr\n",
            "Download file... mappingbased_objects_wkd_uris_hr.ttl.bz2 ...\n",
            "File downloaded\n",
            "hu\n",
            "Download file... mappingbased_objects_wkd_uris_hu.ttl.bz2 ...\n",
            "File downloaded\n",
            "hy\n",
            "Download file... mappingbased_objects_wkd_uris_hy.ttl.bz2 ...\n",
            "File downloaded\n",
            "id\n",
            "Download file... mappingbased_objects_wkd_uris_id.ttl.bz2 ...\n",
            "File downloaded\n",
            "it\n",
            "Download file... mappingbased_objects_wkd_uris_it.ttl.bz2 ...\n",
            "File downloaded\n",
            "ja\n",
            "Download file... mappingbased_objects_wkd_uris_ja.ttl.bz2 ...\n",
            "File downloaded\n",
            "ko\n",
            "Download file... mappingbased_objects_wkd_uris_ko.ttl.bz2 ...\n",
            "File downloaded\n",
            "lv\n",
            "Download file... mappingbased_objects_wkd_uris_lv.ttl.bz2 ...\n",
            "File downloaded\n",
            "mk\n",
            "Download file... mappingbased_objects_wkd_uris_mk.ttl.bz2 ...\n",
            "File downloaded\n",
            "nl\n",
            "Download file... mappingbased_objects_wkd_uris_nl.ttl.bz2 ...\n",
            "File downloaded\n",
            "pl\n",
            "Download file... mappingbased_objects_wkd_uris_pl.ttl.bz2 ...\n",
            "File downloaded\n",
            "pt\n",
            "Download file... mappingbased_objects_wkd_uris_pt.ttl.bz2 ...\n",
            "File downloaded\n",
            "ro\n",
            "Download file... mappingbased_objects_wkd_uris_ro.ttl.bz2 ...\n",
            "File downloaded\n",
            "ru\n",
            "Download file... mappingbased_objects_wkd_uris_ru.ttl.bz2 ...\n",
            "File downloaded\n",
            "sk\n",
            "Download file... mappingbased_objects_wkd_uris_sk.ttl.bz2 ...\n",
            "File downloaded\n",
            "sl\n",
            "Download file... mappingbased_objects_wkd_uris_sl.ttl.bz2 ...\n",
            "File downloaded\n",
            "sr\n",
            "Download file... mappingbased_objects_wkd_uris_sr.ttl.bz2 ...\n",
            "File downloaded\n",
            "sv\n",
            "Download file... mappingbased_objects_wkd_uris_sv.ttl.bz2 ...\n",
            "File downloaded\n",
            "tr\n",
            "Download file... mappingbased_objects_wkd_uris_tr.ttl.bz2 ...\n",
            "File downloaded\n",
            "uk\n",
            "Download file... mappingbased_objects_wkd_uris_uk.ttl.bz2 ...\n",
            "File downloaded\n",
            "vi\n",
            "Download file... mappingbased_objects_wkd_uris_vi.ttl.bz2 ...\n",
            "File downloaded\n"
          ],
          "name": "stdout"
        }
      ]
    },
    {
      "cell_type": "markdown",
      "metadata": {
        "id": "Q0Ah6M9mj4Fh",
        "colab_type": "text"
      },
      "source": [
        "In the following we look at a few common stats of the download files - how many triples are there, how many properties, and what are the most common properties per file."
      ]
    },
    {
      "cell_type": "code",
      "metadata": {
        "id": "dYEFks6sjyj7",
        "colab_type": "code",
        "outputId": "22590c79-b28f-4612-b25d-58a6994e2d49",
        "colab": {
          "base_uri": "https://localhost:8080/",
          "height": 1000
        }
      },
      "source": [
        "import operator\n",
        "\n",
        "for lang in mapped_communities:\n",
        "  filename = 'mappingbased_objects_wkd_uris_' + lang + '.ttl.bz2'\n",
        "  triplecount = 0\n",
        "  pcount = {}\n",
        "  for line in bz2.open(filename, 'r'):\n",
        "    line = line.decode('utf-8').strip()\n",
        "    if line[0] == '#': continue\n",
        "    triplecount += 1\n",
        "    s, p, o, dot = line.split()\n",
        "    if p not in pcount: pcount[p] = 0\n",
        "    pcount[p] += 1\n",
        "  print(lang)\n",
        "  print('{:,} triples'.format(triplecount))\n",
        "  print('{:,} properties'.format(len(pcount)))\n",
        "  print('Top five properties:')\n",
        "  for p in sorted(pcount.items(), reverse = True, key = lambda kv: kv[1])[:5]:\n",
        "    print('{:>8,} {}'.format(p[1], p[0][1:-1]))\n",
        "  print()"
      ],
      "execution_count": 14,
      "outputs": [
        {
          "output_type": "stream",
          "text": [
            "ar\n",
            "169,350 triples\n",
            "170 properties\n",
            "Top five properties:\n",
            "  27,820 http://dbpedia.org/ontology/timeZone\n",
            "  25,295 http://dbpedia.org/ontology/birthPlace\n",
            "  11,914 http://dbpedia.org/ontology/starring\n",
            "  11,768 http://xmlns.com/foaf/0.1/homepage\n",
            "  10,807 http://dbpedia.org/ontology/deathPlace\n",
            "\n",
            "az\n",
            "18,628 triples\n",
            "21 properties\n",
            "Top five properties:\n",
            "   9,341 http://dbpedia.org/ontology/birthPlace\n",
            "   4,939 http://dbpedia.org/ontology/deathPlace\n",
            "   1,253 http://dbpedia.org/ontology/occupation\n",
            "     816 http://xmlns.com/foaf/0.1/homepage\n",
            "     597 http://dbpedia.org/ontology/genre\n",
            "\n",
            "be\n",
            "71,330 triples\n",
            "115 properties\n",
            "Top five properties:\n",
            "   8,584 http://dbpedia.org/ontology/birthPlace\n",
            "   8,364 http://xmlns.com/foaf/0.1/homepage\n",
            "   4,781 http://dbpedia.org/ontology/region\n",
            "   3,776 http://dbpedia.org/ontology/country\n",
            "   3,284 http://dbpedia.org/ontology/deathPlace\n",
            "\n",
            "bg\n",
            "428,733 triples\n",
            "167 properties\n",
            "Top five properties:\n",
            "  68,160 http://dbpedia.org/ontology/birthPlace\n",
            "  33,828 http://dbpedia.org/ontology/deathPlace\n",
            "  33,256 http://dbpedia.org/ontology/class\n",
            "  31,440 http://dbpedia.org/ontology/phylum\n",
            "  30,327 http://dbpedia.org/ontology/kingdom\n",
            "\n",
            "bn\n",
            "14,458 triples\n",
            "61 properties\n",
            "Top five properties:\n",
            "   3,247 http://dbpedia.org/ontology/birthPlace\n",
            "   1,328 http://dbpedia.org/ontology/deathPlace\n",
            "   1,151 http://dbpedia.org/ontology/starring\n",
            "     834 http://dbpedia.org/ontology/nationality\n",
            "     761 http://dbpedia.org/ontology/almaMater\n",
            "\n",
            "ca\n",
            "281,325 triples\n",
            "87 properties\n",
            "Top five properties:\n",
            "  58,018 http://dbpedia.org/ontology/country\n",
            "  36,292 http://dbpedia.org/ontology/genus\n",
            "  36,066 http://dbpedia.org/ontology/canton\n",
            "  23,107 http://xmlns.com/foaf/0.1/homepage\n",
            "  13,485 http://dbpedia.org/ontology/binomialAuthority\n",
            "\n",
            "cs\n",
            "399,934 triples\n",
            "172 properties\n",
            "Top five properties:\n",
            "  40,034 http://dbpedia.org/ontology/birthPlace\n",
            "  24,202 http://dbpedia.org/ontology/club\n",
            "  23,723 http://xmlns.com/foaf/0.1/homepage\n",
            "  22,820 http://dbpedia.org/ontology/country\n",
            "  22,134 http://dbpedia.org/ontology/capital\n",
            "\n",
            "cy\n",
            "8,870 triples\n",
            "21 properties\n",
            "Top five properties:\n",
            "   3,794 http://dbpedia.org/ontology/firstPublisher\n",
            "   1,538 http://dbpedia.org/ontology/birthPlace\n",
            "   1,094 http://dbpedia.org/ontology/country\n",
            "     600 http://dbpedia.org/ontology/language\n",
            "     503 http://dbpedia.org/ontology/knownFor\n",
            "\n",
            "de\n",
            "3,324,235 triples\n",
            "248 properties\n",
            "Top five properties:\n",
            " 657,192 http://dbpedia.org/ontology/birthPlace\n",
            " 387,106 http://www.w3.org/2002/07/owl#sameAs\n",
            " 285,180 http://dbpedia.org/ontology/deathPlace\n",
            " 232,503 http://dbpedia.org/ontology/starring\n",
            " 133,664 http://dbpedia.org/ontology/club\n",
            "\n",
            "el\n",
            "100,062 triples\n",
            "254 properties\n",
            "Top five properties:\n",
            "   8,785 http://dbpedia.org/ontology/birthPlace\n",
            "   5,827 http://dbpedia.org/ontology/starring\n",
            "   5,764 http://xmlns.com/foaf/0.1/homepage\n",
            "   4,736 http://dbpedia.org/ontology/country\n",
            "   3,984 http://dbpedia.org/ontology/province\n",
            "\n",
            "en\n",
            "13,301,511 triples\n",
            "645 properties\n",
            "Top five properties:\n",
            " 895,249 http://wikidata.dbpedia.org/ontology/birthPlace\n",
            " 856,150 http://wikidata.dbpedia.org/ontology/isPartOf\n",
            " 748,646 http://wikidata.dbpedia.org/ontology/country\n",
            " 668,682 http://wikidata.dbpedia.org/ontology/team\n",
            " 494,213 http://wikidata.dbpedia.org/ontology/genre\n",
            "\n",
            "eo\n",
            "53,577 triples\n",
            "41 properties\n",
            "Top five properties:\n",
            "  15,986 http://dbpedia.org/ontology/administrativeDistrict\n",
            "   9,800 http://dbpedia.org/ontology/state\n",
            "   5,331 http://dbpedia.org/ontology/family\n",
            "   5,182 http://dbpedia.org/ontology/geolocDepartment\n",
            "   4,428 http://dbpedia.org/ontology/district\n",
            "\n",
            "es\n",
            "3,125,595 triples\n",
            "284 properties\n",
            "Top five properties:\n",
            " 260,302 http://dbpedia.org/ontology/order\n",
            " 221,576 http://dbpedia.org/ontology/birthPlace\n",
            " 217,839 http://dbpedia.org/ontology/family\n",
            " 217,502 http://dbpedia.org/ontology/class\n",
            " 177,672 http://dbpedia.org/ontology/country\n",
            "\n",
            "eu\n",
            "156,789 triples\n",
            "77 properties\n",
            "Top five properties:\n",
            "  50,745 http://dbpedia.org/ontology/country\n",
            "  13,143 http://xmlns.com/foaf/0.1/homepage\n",
            "  11,708 http://dbpedia.org/ontology/birthPlace\n",
            "   8,200 http://dbpedia.org/ontology/city\n",
            "   7,373 http://dbpedia.org/ontology/region\n",
            "\n",
            "fr\n",
            "3,213,999 triples\n",
            "365 properties\n",
            "Top five properties:\n",
            " 297,817 http://dbpedia.org/ontology/country\n",
            " 241,638 http://dbpedia.org/ontology/birthPlace\n",
            " 171,849 http://dbpedia.org/ontology/nationality\n",
            " 144,760 http://dbpedia.org/ontology/genre\n",
            " 111,949 http://dbpedia.org/ontology/isPartOf\n",
            "\n",
            "ga\n",
            "15,524 triples\n",
            "71 properties\n",
            "Top five properties:\n",
            "   2,478 http://dbpedia.org/ontology/birthPlace\n",
            "   1,469 http://dbpedia.org/ontology/province\n",
            "   1,299 http://xmlns.com/foaf/0.1/homepage\n",
            "   1,188 http://dbpedia.org/ontology/deathPlace\n",
            "     986 http://dbpedia.org/ontology/country\n",
            "\n",
            "gl\n",
            "136,310 triples\n",
            "145 properties\n",
            "Top five properties:\n",
            "  18,213 http://dbpedia.org/ontology/municipality\n",
            "  15,289 http://dbpedia.org/ontology/isPartOf\n",
            "   7,591 http://dbpedia.org/ontology/country\n",
            "   7,029 http://dbpedia.org/ontology/genre\n",
            "   6,358 http://dbpedia.org/ontology/starring\n",
            "\n",
            "hi\n",
            "109,892 triples\n",
            "21 properties\n",
            "Top five properties:\n",
            "  46,510 http://dbpedia.org/ontology/language\n",
            "  23,482 http://dbpedia.org/ontology/state\n",
            "  19,895 http://dbpedia.org/ontology/starring\n",
            "  12,963 http://dbpedia.org/ontology/district\n",
            "   3,229 http://dbpedia.org/ontology/country\n",
            "\n",
            "hr\n",
            "78,653 triples\n",
            "103 properties\n",
            "Top five properties:\n",
            "   9,518 http://dbpedia.org/ontology/genre\n",
            "   9,030 http://dbpedia.org/ontology/birthPlace\n",
            "   5,059 http://dbpedia.org/ontology/deathPlace\n",
            "   4,450 http://dbpedia.org/ontology/starring\n",
            "   3,172 http://dbpedia.org/ontology/recordLabel\n",
            "\n",
            "hu\n",
            "322,120 triples\n",
            "185 properties\n",
            "Top five properties:\n",
            "  43,801 http://dbpedia.org/ontology/team\n",
            "  25,871 http://dbpedia.org/ontology/birthPlace\n",
            "  19,029 http://dbpedia.org/ontology/province\n",
            "  17,530 http://dbpedia.org/ontology/genre\n",
            "  13,159 http://dbpedia.org/ontology/deathPlace\n",
            "\n",
            "hy\n",
            "736 triples\n",
            "6 properties\n",
            "Top five properties:\n",
            "     276 http://dbpedia.org/ontology/birthPlace\n",
            "     227 http://dbpedia.org/ontology/deathPlace\n",
            "     162 http://dbpedia.org/ontology/language\n",
            "      29 http://dbpedia.org/ontology/genre\n",
            "      26 http://dbpedia.org/ontology/award\n",
            "\n",
            "id\n",
            "500,135 triples\n",
            "198 properties\n",
            "Top five properties:\n",
            "  81,843 http://dbpedia.org/ontology/family\n",
            "  51,989 http://dbpedia.org/ontology/province\n",
            "  42,266 http://dbpedia.org/ontology/district\n",
            "  39,236 http://dbpedia.org/ontology/genus\n",
            "  29,939 http://dbpedia.org/ontology/birthPlace\n",
            "\n",
            "it\n",
            "2,030,847 triples\n",
            "146 properties\n",
            "Top five properties:\n",
            " 274,421 http://dbpedia.org/ontology/starring\n",
            " 186,353 http://dbpedia.org/ontology/administrativeDistrict\n",
            "  78,952 http://dbpedia.org/ontology/position\n",
            "  73,160 http://dbpedia.org/ontology/stateOfOrigin\n",
            "  63,377 http://dbpedia.org/ontology/birthPlace\n",
            "\n",
            "ja\n",
            "1,582,162 triples\n",
            "261 properties\n",
            "Top five properties:\n",
            " 103,320 http://dbpedia.org/ontology/genre\n",
            "  95,658 http://dbpedia.org/ontology/birthPlace\n",
            "  78,925 http://dbpedia.org/ontology/starring\n",
            "  77,999 http://xmlns.com/foaf/0.1/homepage\n",
            "  62,653 http://dbpedia.org/ontology/position\n",
            "\n",
            "ko\n",
            "436,354 triples\n",
            "237 properties\n",
            "Top five properties:\n",
            "  36,712 http://dbpedia.org/ontology/birthPlace\n",
            "  29,429 http://xmlns.com/foaf/0.1/homepage\n",
            "  27,164 http://dbpedia.org/ontology/occupation\n",
            "  23,511 http://dbpedia.org/ontology/club\n",
            "  21,952 http://dbpedia.org/ontology/genre\n",
            "\n",
            "lv\n",
            "44,358 triples\n",
            "104 properties\n",
            "Top five properties:\n",
            "   6,082 http://dbpedia.org/ontology/birthPlace\n",
            "   4,284 http://xmlns.com/foaf/0.1/homepage\n",
            "   3,401 http://dbpedia.org/ontology/deathPlace\n",
            "   3,281 http://dbpedia.org/ontology/genre\n",
            "   2,117 http://dbpedia.org/ontology/timeZone\n",
            "\n",
            "mk\n",
            "80,022 triples\n",
            "222 properties\n",
            "Top five properties:\n",
            "  10,143 http://dbpedia.org/ontology/constellation\n",
            "  10,106 http://dbpedia.org/ontology/type\n",
            "   6,250 http://dbpedia.org/ontology/country\n",
            "   5,881 http://xmlns.com/foaf/0.1/homepage\n",
            "   5,617 http://dbpedia.org/ontology/birthPlace\n",
            "\n",
            "nl\n",
            "4,877,165 triples\n",
            "426 properties\n",
            "Top five properties:\n",
            " 704,250 http://dbpedia.org/ontology/family\n",
            " 498,452 http://dbpedia.org/ontology/order\n",
            " 438,904 http://dbpedia.org/ontology/genus\n",
            " 351,968 http://dbpedia.org/ontology/country\n",
            " 218,807 http://dbpedia.org/ontology/domain\n",
            "\n",
            "pl\n",
            "1,602,810 triples\n",
            "136 properties\n",
            "Top five properties:\n",
            " 173,816 http://dbpedia.org/ontology/birthPlace\n",
            " 144,010 http://dbpedia.org/ontology/team\n",
            " 105,646 http://dbpedia.org/ontology/locatedInArea\n",
            "  70,332 http://dbpedia.org/ontology/class\n",
            "  64,425 http://xmlns.com/foaf/0.1/homepage\n",
            "\n",
            "pt\n",
            "2,023,982 triples\n",
            "329 properties\n",
            "Top five properties:\n",
            " 119,155 http://dbpedia.org/ontology/birthPlace\n",
            " 114,959 http://dbpedia.org/ontology/order\n",
            " 108,771 http://dbpedia.org/ontology/family\n",
            "  98,708 http://dbpedia.org/ontology/kingdom\n",
            "  97,431 http://dbpedia.org/ontology/genre\n",
            "\n",
            "ro\n",
            "3,627 triples\n",
            "20 properties\n",
            "Top five properties:\n",
            "     624 http://dbpedia.org/ontology/author\n",
            "     449 http://dbpedia.org/ontology/successor\n",
            "     447 http://dbpedia.org/ontology/predecessor\n",
            "     275 http://dbpedia.org/ontology/publisher\n",
            "     245 http://dbpedia.org/ontology/canonizedBy\n",
            "\n",
            "ru\n",
            "1,248,861 triples\n",
            "96 properties\n",
            "Top five properties:\n",
            " 158,063 http://dbpedia.org/ontology/birthPlace\n",
            " 108,755 http://dbpedia.org/ontology/genre\n",
            "  68,153 http://xmlns.com/foaf/0.1/homepage\n",
            "  58,516 http://dbpedia.org/ontology/deathPlace\n",
            "  54,220 http://dbpedia.org/ontology/region\n",
            "\n",
            "sk\n",
            "40,965 triples\n",
            "19 properties\n",
            "Top five properties:\n",
            "  20,935 http://dbpedia.org/ontology/birthPlace\n",
            "  13,586 http://dbpedia.org/ontology/deathPlace\n",
            "   2,943 http://dbpedia.org/ontology/discoverer\n",
            "   1,058 http://dbpedia.org/ontology/formerTeam\n",
            "     631 http://dbpedia.org/ontology/ceremonialCounty\n",
            "\n",
            "sl\n",
            "94,061 triples\n",
            "242 properties\n",
            "Top five properties:\n",
            "  12,586 http://dbpedia.org/ontology/country\n",
            "  11,045 http://dbpedia.org/ontology/battle\n",
            "   4,830 http://dbpedia.org/ontology/militaryBranch\n",
            "   4,126 http://dbpedia.org/ontology/birthPlace\n",
            "   3,775 http://dbpedia.org/ontology/location\n",
            "\n",
            "sr\n",
            "457,174 triples\n",
            "290 properties\n",
            "Top five properties:\n",
            "  81,263 http://dbpedia.org/ontology/district\n",
            "  69,503 http://dbpedia.org/ontology/region\n",
            "  56,397 http://dbpedia.org/ontology/timeZone\n",
            "  27,998 http://dbpedia.org/ontology/birthPlace\n",
            "  19,445 http://xmlns.com/foaf/0.1/homepage\n",
            "\n",
            "sv\n",
            "5,232,657 triples\n",
            "189 properties\n",
            "Top five properties:\n",
            "1,382,571 http://dbpedia.org/ontology/country\n",
            "1,298,965 http://dbpedia.org/ontology/mouthCountry\n",
            "1,248,740 http://dbpedia.org/ontology/location\n",
            " 343,840 http://dbpedia.org/ontology/superFamily\n",
            " 300,938 http://dbpedia.org/ontology/family\n",
            "\n",
            "tr\n",
            "310,161 triples\n",
            "241 properties\n",
            "Top five properties:\n",
            "  28,571 http://dbpedia.org/ontology/birthPlace\n",
            "  21,946 http://dbpedia.org/ontology/starring\n",
            "  20,787 http://xmlns.com/foaf/0.1/homepage\n",
            "  18,156 http://dbpedia.org/ontology/position\n",
            "  15,847 http://dbpedia.org/ontology/genre\n",
            "\n",
            "uk\n",
            "97,764 triples\n",
            "65 properties\n",
            "Top five properties:\n",
            "  35,835 http://dbpedia.org/ontology/country\n",
            "   8,316 http://dbpedia.org/ontology/deathPlace\n",
            "   5,563 http://dbpedia.org/ontology/region\n",
            "   5,114 http://dbpedia.org/ontology/location\n",
            "   5,055 http://dbpedia.org/ontology/stateOfOrigin\n",
            "\n",
            "vi\n",
            "29,381 triples\n",
            "53 properties\n",
            "Top five properties:\n",
            "   7,428 http://dbpedia.org/ontology/district\n",
            "   2,467 http://dbpedia.org/ontology/map\n",
            "   2,238 http://dbpedia.org/ontology/birthPlace\n",
            "   2,145 http://dbpedia.org/ontology/predecessor\n",
            "   2,132 http://dbpedia.org/ontology/deathPlace\n",
            "\n"
          ],
          "name": "stdout"
        }
      ]
    },
    {
      "cell_type": "markdown",
      "metadata": {
        "id": "W5imBsCUrN-8",
        "colab_type": "text"
      },
      "source": [
        "Now we load the parent relationships.\n",
        "\n",
        "When looking at the results, it is easy to see that the Italian chapter will be problematic as there are on average more than two parents per person."
      ]
    },
    {
      "cell_type": "code",
      "metadata": {
        "id": "NDiOEccSrB10",
        "colab_type": "code",
        "outputId": "350d9c95-cea5-4786-dbb9-b4977e2ba73b",
        "colab": {
          "base_uri": "https://localhost:8080/",
          "height": 1000
        }
      },
      "source": [
        "dbparent = {}\n",
        "\n",
        "for lang in mapped_communities:\n",
        "  dbparent[lang] = {}\n",
        "  parentcount = 0\n",
        "  filename = 'mappingbased_objects_wkd_uris_' + lang + '.ttl.bz2'\n",
        "  for line in bz2.open(filename, 'r'):\n",
        "    line = line.decode('utf-8').strip()\n",
        "    if line[0] == '#': continue\n",
        "    s, p, o, dot = line.split()\n",
        "    # Note that in the English chapter, a different namespace is used.\n",
        "    # The following works for all chapters\n",
        "    if not p.endswith('dbpedia.org/ontology/parent>'): continue\n",
        "    s = s[38:-1]\n",
        "    o = o[38:-1]\n",
        "    if s not in dbparent[lang]: dbparent[lang][s] = []\n",
        "    dbparent[lang][s] += [o]\n",
        "    parentcount += 1\n",
        "  print(lang)\n",
        "  print('{:,} parent relationships'.format(parentcount))\n",
        "  print('{:,} children'.format(len(dbparent[lang])))\n",
        "  print()"
      ],
      "execution_count": 15,
      "outputs": [
        {
          "output_type": "stream",
          "text": [
            "ar\n",
            "42 parent relationships\n",
            "37 children\n",
            "\n",
            "az\n",
            "181 parent relationships\n",
            "166 children\n",
            "\n",
            "be\n",
            "1,195 parent relationships\n",
            "1,035 children\n",
            "\n",
            "bg\n",
            "1,674 parent relationships\n",
            "1,114 children\n",
            "\n",
            "bn\n",
            "55 parent relationships\n",
            "46 children\n",
            "\n",
            "ca\n",
            "0 parent relationships\n",
            "0 children\n",
            "\n",
            "cs\n",
            "466 parent relationships\n",
            "330 children\n",
            "\n",
            "cy\n",
            "7 parent relationships\n",
            "7 children\n",
            "\n",
            "de\n",
            "0 parent relationships\n",
            "0 children\n",
            "\n",
            "el\n",
            "947 parent relationships\n",
            "756 children\n",
            "\n",
            "en\n",
            "23,558 parent relationships\n",
            "17,467 children\n",
            "\n",
            "eo\n",
            "0 parent relationships\n",
            "0 children\n",
            "\n",
            "es\n",
            "7,453 parent relationships\n",
            "4,946 children\n",
            "\n",
            "eu\n",
            "0 parent relationships\n",
            "0 children\n",
            "\n",
            "fr\n",
            "5,168 parent relationships\n",
            "3,903 children\n",
            "\n",
            "ga\n",
            "0 parent relationships\n",
            "0 children\n",
            "\n",
            "gl\n",
            "0 parent relationships\n",
            "0 children\n",
            "\n",
            "hi\n",
            "0 parent relationships\n",
            "0 children\n",
            "\n",
            "hr\n",
            "427 parent relationships\n",
            "425 children\n",
            "\n",
            "hu\n",
            "2,710 parent relationships\n",
            "1,949 children\n",
            "\n",
            "hy\n",
            "0 parent relationships\n",
            "0 children\n",
            "\n",
            "id\n",
            "426 parent relationships\n",
            "376 children\n",
            "\n",
            "it\n",
            "7,885 parent relationships\n",
            "2,766 children\n",
            "\n",
            "ja\n",
            "8,214 parent relationships\n",
            "6,687 children\n",
            "\n",
            "ko\n",
            "1,239 parent relationships\n",
            "1,026 children\n",
            "\n",
            "lv\n",
            "90 parent relationships\n",
            "76 children\n",
            "\n",
            "mk\n",
            "333 parent relationships\n",
            "278 children\n",
            "\n",
            "nl\n",
            "3,856 parent relationships\n",
            "2,877 children\n",
            "\n",
            "pl\n",
            "0 parent relationships\n",
            "0 children\n",
            "\n",
            "pt\n",
            "2,289 parent relationships\n",
            "1,694 children\n",
            "\n",
            "ro\n",
            "1 parent relationships\n",
            "1 children\n",
            "\n",
            "ru\n",
            "13,138 parent relationships\n",
            "10,416 children\n",
            "\n",
            "sk\n",
            "0 parent relationships\n",
            "0 children\n",
            "\n",
            "sl\n",
            "320 parent relationships\n",
            "290 children\n",
            "\n",
            "sr\n",
            "0 parent relationships\n",
            "0 children\n",
            "\n",
            "sv\n",
            "618 parent relationships\n",
            "497 children\n",
            "\n",
            "tr\n",
            "259 parent relationships\n",
            "207 children\n",
            "\n",
            "uk\n",
            "562 parent relationships\n",
            "562 children\n",
            "\n",
            "vi\n",
            "3 parent relationships\n",
            "3 children\n",
            "\n"
          ],
          "name": "stdout"
        }
      ]
    },
    {
      "cell_type": "markdown",
      "metadata": {
        "id": "nWM6vxk6gPDG",
        "colab_type": "text"
      },
      "source": [
        "## DBpedia Fusion (beta)\n",
        "\n",
        "The current beta of the DBpedia Fusion dataset is available on the DBpedia Databus website:\n",
        "\n",
        "https://databus.dbpedia.org/\n",
        "\n",
        "The databus data is still in beta. Particularly it does not include the cleaning process based on the domain and range yet (which turns out to be rather noticeable).\n",
        "\n",
        "Instead of using the individual chapters, as before, we load the Fusion dataset. The Fusion dataset integrates 140 Wikipedias and Wikidata, and thus is far larger than any of the individual chapters. Also, the DBpedia community is concentrating their effort into the further development of the Fusion dataset, so it is assumed that this is their most comprehensive dataset. As it also contains Wikidata, the Fusion dataset should improve in coverage over Wikidata.\n",
        "\n",
        "The new releases also do not canonicalize to Wikidata anymore, but introduce a new opaque DBpedia identifier system. In the following, we download the mappings from Wikidata IDs to DBpedia identifiers.\n",
        "\n",
        "The mappings of DBpedia URIs to Wikidata's identifiers can be obtained from https://databus.dbpedia.org/dbpedia/id-management/global-ids \n"
      ]
    },
    {
      "cell_type": "code",
      "metadata": {
        "id": "VbhsAx5t1KcF",
        "colab_type": "code",
        "outputId": "5af8babe-7db6-448d-838e-44b9ea1a53f3",
        "colab": {
          "base_uri": "https://localhost:8080/",
          "height": 85
        }
      },
      "source": [
        "download('https://downloads.dbpedia.org/repo/lts/id-management/global-ids/2019.02.28/global-ids_base58.tsv.bz2', 'global-ids_base58.tsv.bz2')\n",
        "\n",
        "fusionmappings = {}\n",
        "\n",
        "linecount = 0\n",
        "for line in bz2.open('global-ids_base58.tsv.bz2', 'r'):\n",
        "  source, local, dbid = line.decode('utf-8').strip().split('\\t')\n",
        "  linecount += 1\n",
        "  if source.startswith('http://www.wikidata.org/entity/Q'):\n",
        "    fusionmappings[dbid] = source[31:]\n",
        "\n",
        "print('{:,} Wikidata mappings'.format(len(fusionmappings)))\n",
        "print('{:,} mappings in total'.format(linecount))"
      ],
      "execution_count": 16,
      "outputs": [
        {
          "output_type": "stream",
          "text": [
            "Download file... global-ids_base58.tsv.bz2 ...\n",
            "File downloaded\n",
            "46,291,802 Wikidata mappings\n",
            "92,404,350 mappings in total\n"
          ],
          "name": "stdout"
        }
      ]
    },
    {
      "cell_type": "markdown",
      "metadata": {
        "id": "7RngZmvZMuB5",
        "colab_type": "text"
      },
      "source": [
        "With the mappings loaded, we can now load and map the parent relationships from the Fusion dataset."
      ]
    },
    {
      "cell_type": "code",
      "metadata": {
        "id": "Lklc-pwptdiU",
        "colab_type": "code",
        "outputId": "851078ca-2312-42d4-f76d-b27a1bdb3f8a",
        "colab": {
          "base_uri": "https://localhost:8080/",
          "height": 255
        }
      },
      "source": [
        "import bz2\n",
        "\n",
        "download('https://downloads.dbpedia.org/repo/lts/fusion/mappingbased-objects-uncleaned/2019.03.01/mappingbased-objects-uncleaned_reduce=dbpw_resolve=preference.ttl.bz2', 'mappingbased-objects-uncleaned-fusion.ttl.bz2')\n",
        "\n",
        "fuseparent = {}\n",
        "\n",
        "triplecount = 0\n",
        "parentcount = 0\n",
        "halfmappedcount = 0\n",
        "mappedparentcount = 0\n",
        "pcount = {}\n",
        "\n",
        "def fusemap(dbid):\n",
        "  if not dbid.startswith('<https://global.dbpedia.org/id/'): return dbid\n",
        "  cut = dbid[31:dbid.find('>')]\n",
        "  if cut in fusionmappings:\n",
        "    return fusionmappings[cut]\n",
        "  return dbid\n",
        "\n",
        "for line in bz2.open('mappingbased-objects-uncleaned-fusion.ttl.bz2', 'r'):\n",
        "  line = line.decode('utf-8').strip()\n",
        "  if line[0] == '#': continue\n",
        "  triplecount += 1\n",
        "  s, p, o = line.split(' ', 2)\n",
        "  if p not in pcount: pcount[p] = 0\n",
        "  pcount[p] += 1\n",
        "  if p == '<http://dbpedia.org/ontology/parent>':\n",
        "    parentcount += 1\n",
        "    s = fusemap(s)\n",
        "    o = fusemap(o)\n",
        "    if (s[0]=='Q') ^ (o[0]=='Q'): halfmappedcount += 1\n",
        "    if s[0] != 'Q': continue\n",
        "    if o[0] != 'Q': continue\n",
        "    mappedparentcount += 1\n",
        "    if s not in fuseparent: fuseparent[s] = []\n",
        "    fuseparent[s] += [o]\n",
        "\n",
        "fuseparentcount = parentcount\n",
        "\n",
        "print('{:,} triples'.format(triplecount))\n",
        "print('{:,} properties'.format(len(pcount)))\n",
        "print('{:,} parent relationships total (including unmapped)'.format(parentcount))\n",
        "print('{:,} halfmapped parent relationships'.format(halfmappedcount))\n",
        "print('{:,} mapped parent relationships'.format(mappedparentcount))\n",
        "print('{:,} children'.format(len(fuseparent)))\n",
        "print('Top five properties:')\n",
        "for p in sorted(pcount.items(), reverse = True, key = lambda kv: kv[1])[:5]:\n",
        "  print('{:>8,} {}'.format(p[1], p[0][1:-1]))\n"
      ],
      "execution_count": 17,
      "outputs": [
        {
          "output_type": "stream",
          "text": [
            "Download file... mappingbased-objects-uncleaned-fusion.ttl.bz2 ...\n",
            "File downloaded\n",
            "131,482,132 triples\n",
            "1,030 properties\n",
            "49,663 parent relationships total (including unmapped)\n",
            "14,930 halfmapped parent relationships\n",
            "32,075 mapped parent relationships\n",
            "32,075 children\n",
            "Top five properties:\n",
            "56,178,087 http://www.w3.org/2000/01/rdf-schema#seeAlso\n",
            "10,973,303 http://dbpedia.org/ontology/country\n",
            "6,666,890 http://dbpedia.org/ontology/city\n",
            "3,473,219 http://dbpedia.org/ontology/occupation\n",
            "2,877,897 http://dbpedia.org/ontology/citizenship\n"
          ],
          "name": "stdout"
        }
      ]
    },
    {
      "cell_type": "markdown",
      "metadata": {
        "id": "9OXyntph3RSs",
        "colab_type": "text"
      },
      "source": [
        "# Coverage\n",
        "In this section we calculate the difference in coverage between the different datasets."
      ]
    },
    {
      "cell_type": "markdown",
      "metadata": {
        "id": "C1J5HVtIFh4H",
        "colab_type": "text"
      },
      "source": [
        "## DBpedia chapters and Wikidata\n",
        "In order to increase the fairness of the comparison, we compare in this subsection how many parent relationships are in Wikidata for the people that actually have an article in the given Wikipedia, and how many parent relationships are extracted by a given DBpedia chapter.\n",
        "\n",
        "For comparing with the DBpedia chapters we get numbers for Wikidata coverage directly from the live SPARQL endpoint, because this makes it easier to find which people have Wikipedia articles in the given language."
      ]
    },
    {
      "cell_type": "code",
      "metadata": {
        "id": "fINvwpEy5-Fy",
        "colab_type": "code",
        "outputId": "478d091f-275a-475f-885b-b16fa84d0097",
        "colab": {
          "base_uri": "https://localhost:8080/",
          "height": 1000
        }
      },
      "source": [
        "import matplotlib.pyplot as plt\n",
        "\n",
        "dbdisagreementsperlang = {}\n",
        "dbwinsperlang = {}\n",
        "\n",
        "def coverage_chapter(lang):\n",
        "  query = \"\"\"select (count(?s) as ?count) where {\n",
        "    ?article schema:about ?s .\n",
        "    ?article schema:isPartOf <https://\"\"\" + lang + \"\"\".wikipedia.org/> .\n",
        "    { ?s wdt:P22 ?o } union { ?s wdt:P25 ?o }\n",
        "  }\"\"\"\n",
        "  print(lang)\n",
        "  wdcount = count_from_sparql(query)\n",
        "  print('{:,} parent relationships in Wikidata for given language'.format(wdcount))\n",
        "  dbcount = sum(len(dbparent[lang][parents]) for parents in dbparent[lang])\n",
        "  print('{:,} parent relationships in DBpedia chapter'.format(dbcount))\n",
        "\n",
        "  agreed = 0\n",
        "  dbdisagreed = 0\n",
        "  wddisagreed = 0\n",
        "  dbwin = 0\n",
        "  wdwincontrast = 0\n",
        "\n",
        "  for child in dbparent[lang]:\n",
        "    dbparents = dbparent[lang][child][:]\n",
        "    wdparents = []\n",
        "    if child in wdparent: wdparents = wdparent[child][:]\n",
        "\n",
        "    for parent in dbparents + wdparents:\n",
        "      if parent in dbparents and parent in wdparents:\n",
        "        dbparents.remove(parent)\n",
        "        wdparents.remove(parent)\n",
        "        agreed += 1\n",
        "    if dbparents and wdparents:\n",
        "      dbdisagreed += len(dbparents)\n",
        "      wddisagreed += len(wdparents)\n",
        "      continue\n",
        "    if dbparents:\n",
        "      dbwin += len(dbparents)\n",
        "    if wdparents:\n",
        "      wdwincontrast += len(wdparents)\n",
        "\n",
        "  total = wdcount + dbcount - (dbdisagreed + wddisagreed + agreed)\n",
        "  wdwin = wdcount - (wddisagreed + agreed)\n",
        "\n",
        "  print('{:,} agreements ({:.1%})'.format(agreed, agreed/total))\n",
        "  print('{:,} DBpedia wins ({:.1%})'.format(dbwin, dbwin/total))\n",
        "  print('{:,} Wikidata wins ({:.1%})'.format(wdwin, wdwin/total))\n",
        "  print('{:,} Wikidata wins on DBpedia people ({:.1%})'.format(wdwincontrast, wdwincontrast/total))\n",
        "  print('{:,} DBpedia disagreements ({:.1%})'.format(dbdisagreed, dbdisagreed/total))\n",
        "  print('{:,} Wikidata disagreements ({:.1%})'.format(wddisagreed, wddisagreed/total))\n",
        "  print('{:,} disagreements ({:.1%})'.format(dbdisagreed + wddisagreed, (dbdisagreed + wddisagreed)/total))\n",
        "  print('{:,} total parent relationships'.format(total))\n",
        "\n",
        "  labels = 'DBpedia', 'Agree', 'Wikidata', 'Disagree'\n",
        "  sections = dbwin, agreed, wdwin, dbdisagreed + wddisagreed\n",
        "\n",
        "  dbdisagreementsperlang[lang] = dbdisagreed + wddisagreed\n",
        "  dbwinsperlang[lang] = dbwin\n",
        "\n",
        "  plt.pie(sections, labels = labels, autopct = '%1.2f%%', startangle= 90)\n",
        "  plt.title(lang)\n",
        "  plt.show()\n",
        "  \n",
        "for lang in mapped_communities:\n",
        "  coverage_chapter(lang)\n"
      ],
      "execution_count": 18,
      "outputs": [
        {
          "output_type": "stream",
          "text": [
            "ar\n",
            "25,457 parent relationships in Wikidata for given language\n",
            "42 parent relationships in DBpedia chapter\n",
            "23 agreements (0.1%)\n",
            "17 DBpedia wins (0.1%)\n",
            "25,432 Wikidata wins (99.8%)\n",
            "8 Wikidata wins on DBpedia people (0.0%)\n",
            "2 DBpedia disagreements (0.0%)\n",
            "2 Wikidata disagreements (0.0%)\n",
            "4 disagreements (0.0%)\n",
            "25,472 total parent relationships\n"
          ],
          "name": "stdout"
        },
        {
          "output_type": "display_data",
          "data": {
            "image/png": "[encoded data removed]",
            "text/plain": [
              "<Figure size 432x288 with 1 Axes>"
            ]
          },
          "metadata": {
            "tags": []
          }
        },
        {
          "output_type": "stream",
          "text": [
            "az\n",
            "5,664 parent relationships in Wikidata for given language\n",
            "181 parent relationships in DBpedia chapter\n",
            "72 agreements (1.2%)\n",
            "107 DBpedia wins (1.9%)\n",
            "5,588 Wikidata wins (96.9%)\n",
            "27 Wikidata wins on DBpedia people (0.5%)\n",
            "2 DBpedia disagreements (0.0%)\n",
            "4 Wikidata disagreements (0.1%)\n",
            "6 disagreements (0.1%)\n",
            "5,767 total parent relationships\n"
          ],
          "name": "stdout"
        },
        {
          "output_type": "display_data",
          "data": {
            "image/png": "[encoded data removed]",
            "text/plain": [
              "<Figure size 432x288 with 1 Axes>"
            ]
          },
          "metadata": {
            "tags": []
          }
        },
        {
          "output_type": "stream",
          "text": [
            "be\n",
            "9,371 parent relationships in Wikidata for given language\n",
            "1,195 parent relationships in DBpedia chapter\n",
            "1,089 agreements (11.7%)\n",
            "48 DBpedia wins (0.5%)\n",
            "8,208 Wikidata wins (87.8%)\n",
            "578 Wikidata wins on DBpedia people (6.2%)\n",
            "58 DBpedia disagreements (0.6%)\n",
            "74 Wikidata disagreements (0.8%)\n",
            "132 disagreements (1.4%)\n",
            "9,345 total parent relationships\n"
          ],
          "name": "stdout"
        },
        {
          "output_type": "display_data",
          "data": {
            "image/png": "[encoded data removed]",
            "text/plain": [
              "<Figure size 432x288 with 1 Axes>"
            ]
          },
          "metadata": {
            "tags": []
          }
        },
        {
          "output_type": "stream",
          "text": [
            "bg\n",
            "24,782 parent relationships in Wikidata for given language\n",
            "1,674 parent relationships in DBpedia chapter\n",
            "1,523 agreements (6.2%)\n",
            "55 DBpedia wins (0.2%)\n",
            "23,133 Wikidata wins (93.6%)\n",
            "432 Wikidata wins on DBpedia people (1.7%)\n",
            "96 DBpedia disagreements (0.4%)\n",
            "126 Wikidata disagreements (0.5%)\n",
            "222 disagreements (0.9%)\n",
            "24,711 total parent relationships\n"
          ],
          "name": "stdout"
        },
        {
          "output_type": "display_data",
          "data": {
            "image/png": "[encoded data removed]",
            "text/plain": [
              "<Figure size 432x288 with 1 Axes>"
            ]
          },
          "metadata": {
            "tags": []
          }
        },
        {
          "output_type": "stream",
          "text": [
            "bn\n",
            "4,053 parent relationships in Wikidata for given language\n",
            "55 parent relationships in DBpedia chapter\n",
            "47 agreements (1.2%)\n",
            "6 DBpedia wins (0.1%)\n",
            "4,003 Wikidata wins (98.7%)\n",
            "21 Wikidata wins on DBpedia people (0.5%)\n",
            "2 DBpedia disagreements (0.0%)\n",
            "3 Wikidata disagreements (0.1%)\n",
            "5 disagreements (0.1%)\n",
            "4,056 total parent relationships\n"
          ],
          "name": "stdout"
        },
        {
          "output_type": "display_data",
          "data": {
            "image/png": "[encoded data removed]",
            "text/plain": [
              "<Figure size 432x288 with 1 Axes>"
            ]
          },
          "metadata": {
            "tags": []
          }
        },
        {
          "output_type": "stream",
          "text": [
            "ca\n",
            "29,043 parent relationships in Wikidata for given language\n",
            "0 parent relationships in DBpedia chapter\n",
            "0 agreements (0.0%)\n",
            "0 DBpedia wins (0.0%)\n",
            "29,043 Wikidata wins (100.0%)\n",
            "0 Wikidata wins on DBpedia people (0.0%)\n",
            "0 DBpedia disagreements (0.0%)\n",
            "0 Wikidata disagreements (0.0%)\n",
            "0 disagreements (0.0%)\n",
            "29,043 total parent relationships\n"
          ],
          "name": "stdout"
        },
        {
          "output_type": "display_data",
          "data": {
            "image/png": "[encoded data removed]",
            "text/plain": [
              "<Figure size 432x288 with 1 Axes>"
            ]
          },
          "metadata": {
            "tags": []
          }
        },
        {
          "output_type": "stream",
          "text": [
            "cs\n",
            "22,701 parent relationships in Wikidata for given language\n",
            "466 parent relationships in DBpedia chapter\n",
            "398 agreements (1.7%)\n",
            "62 DBpedia wins (0.3%)\n",
            "22,298 Wikidata wins (98.0%)\n",
            "62 Wikidata wins on DBpedia people (0.3%)\n",
            "6 DBpedia disagreements (0.0%)\n",
            "5 Wikidata disagreements (0.0%)\n",
            "11 disagreements (0.0%)\n",
            "22,758 total parent relationships\n"
          ],
          "name": "stdout"
        },
        {
          "output_type": "display_data",
          "data": {
            "image/png": "[encoded data removed]",
            "text/plain": [
              "<Figure size 432x288 with 1 Axes>"
            ]
          },
          "metadata": {
            "tags": []
          }
        },
        {
          "output_type": "stream",
          "text": [
            "cy\n",
            "5,244 parent relationships in Wikidata for given language\n",
            "7 parent relationships in DBpedia chapter\n",
            "6 agreements (0.1%)\n",
            "1 DBpedia wins (0.0%)\n",
            "5,238 Wikidata wins (99.9%)\n",
            "3 Wikidata wins on DBpedia people (0.1%)\n",
            "0 DBpedia disagreements (0.0%)\n",
            "0 Wikidata disagreements (0.0%)\n",
            "0 disagreements (0.0%)\n",
            "5,245 total parent relationships\n"
          ],
          "name": "stdout"
        },
        {
          "output_type": "display_data",
          "data": {
            "image/png": "[encoded data removed]",
            "text/plain": [
              "<Figure size 432x288 with 1 Axes>"
            ]
          },
          "metadata": {
            "tags": []
          }
        },
        {
          "output_type": "stream",
          "text": [
            "de\n",
            "60,636 parent relationships in Wikidata for given language\n",
            "0 parent relationships in DBpedia chapter\n",
            "0 agreements (0.0%)\n",
            "0 DBpedia wins (0.0%)\n",
            "60,636 Wikidata wins (100.0%)\n",
            "0 Wikidata wins on DBpedia people (0.0%)\n",
            "0 DBpedia disagreements (0.0%)\n",
            "0 Wikidata disagreements (0.0%)\n",
            "0 disagreements (0.0%)\n",
            "60,636 total parent relationships\n"
          ],
          "name": "stdout"
        },
        {
          "output_type": "display_data",
          "data": {
            "image/png": "[encoded data removed]",
            "text/plain": [
              "<Figure size 432x288 with 1 Axes>"
            ]
          },
          "metadata": {
            "tags": []
          }
        },
        {
          "output_type": "stream",
          "text": [
            "el\n",
            "22,900 parent relationships in Wikidata for given language\n",
            "947 parent relationships in DBpedia chapter\n",
            "906 agreements (4.0%)\n",
            "16 DBpedia wins (0.1%)\n",
            "21,958 Wikidata wins (96.0%)\n",
            "486 Wikidata wins on DBpedia people (2.1%)\n",
            "25 DBpedia disagreements (0.1%)\n",
            "36 Wikidata disagreements (0.2%)\n",
            "61 disagreements (0.3%)\n",
            "22,880 total parent relationships\n"
          ],
          "name": "stdout"
        },
        {
          "output_type": "display_data",
          "data": {
            "image/png": "[encoded data removed]",
            "text/plain": [
              "<Figure size 432x288 with 1 Axes>"
            ]
          },
          "metadata": {
            "tags": []
          }
        },
        {
          "output_type": "stream",
          "text": [
            "en\n",
            "107,423 parent relationships in Wikidata for given language\n",
            "23,558 parent relationships in DBpedia chapter\n",
            "21,948 agreements (20.3%)\n",
            "1,279 DBpedia wins (1.2%)\n",
            "85,079 Wikidata wins (78.6%)\n",
            "3,966 Wikidata wins on DBpedia people (3.7%)\n",
            "331 DBpedia disagreements (0.3%)\n",
            "396 Wikidata disagreements (0.4%)\n",
            "727 disagreements (0.7%)\n",
            "108,306 total parent relationships\n"
          ],
          "name": "stdout"
        },
        {
          "output_type": "display_data",
          "data": {
            "image/png": "[encoded data removed]",
            "text/plain": [
              "<Figure size 432x288 with 1 Axes>"
            ]
          },
          "metadata": {
            "tags": []
          }
        },
        {
          "output_type": "stream",
          "text": [
            "eo\n",
            "11,099 parent relationships in Wikidata for given language\n",
            "0 parent relationships in DBpedia chapter\n",
            "0 agreements (0.0%)\n",
            "0 DBpedia wins (0.0%)\n",
            "11,099 Wikidata wins (100.0%)\n",
            "0 Wikidata wins on DBpedia people (0.0%)\n",
            "0 DBpedia disagreements (0.0%)\n",
            "0 Wikidata disagreements (0.0%)\n",
            "0 disagreements (0.0%)\n",
            "11,099 total parent relationships\n"
          ],
          "name": "stdout"
        },
        {
          "output_type": "display_data",
          "data": {
            "image/png": "[encoded data removed]",
            "text/plain": [
              "<Figure size 432x288 with 1 Axes>"
            ]
          },
          "metadata": {
            "tags": []
          }
        },
        {
          "output_type": "stream",
          "text": [
            "es\n",
            "45,447 parent relationships in Wikidata for given language\n",
            "7,453 parent relationships in DBpedia chapter\n",
            "6,712 agreements (14.7%)\n",
            "533 DBpedia wins (1.2%)\n",
            "38,492 Wikidata wins (84.2%)\n",
            "1,271 Wikidata wins on DBpedia people (2.8%)\n",
            "208 DBpedia disagreements (0.5%)\n",
            "243 Wikidata disagreements (0.5%)\n",
            "451 disagreements (1.0%)\n",
            "45,737 total parent relationships\n"
          ],
          "name": "stdout"
        },
        {
          "output_type": "display_data",
          "data": {
            "image/png": "[encoded data removed]",
            "text/plain": [
              "<Figure size 432x288 with 1 Axes>"
            ]
          },
          "metadata": {
            "tags": []
          }
        },
        {
          "output_type": "stream",
          "text": [
            "eu\n",
            "10,101 parent relationships in Wikidata for given language\n",
            "0 parent relationships in DBpedia chapter\n",
            "0 agreements (0.0%)\n",
            "0 DBpedia wins (0.0%)\n",
            "10,101 Wikidata wins (100.0%)\n",
            "0 Wikidata wins on DBpedia people (0.0%)\n",
            "0 DBpedia disagreements (0.0%)\n",
            "0 Wikidata disagreements (0.0%)\n",
            "0 disagreements (0.0%)\n",
            "10,101 total parent relationships\n"
          ],
          "name": "stdout"
        },
        {
          "output_type": "display_data",
          "data": {
            "image/png": "[encoded data removed]",
            "text/plain": [
              "<Figure size 432x288 with 1 Axes>"
            ]
          },
          "metadata": {
            "tags": []
          }
        },
        {
          "output_type": "stream",
          "text": [
            "fr\n",
            "68,116 parent relationships in Wikidata for given language\n",
            "5,168 parent relationships in DBpedia chapter\n",
            "4,660 agreements (6.8%)\n",
            "353 DBpedia wins (0.5%)\n",
            "63,287 Wikidata wins (92.7%)\n",
            "1,199 Wikidata wins on DBpedia people (1.8%)\n",
            "155 DBpedia disagreements (0.2%)\n",
            "169 Wikidata disagreements (0.2%)\n",
            "324 disagreements (0.5%)\n",
            "68,300 total parent relationships\n"
          ],
          "name": "stdout"
        },
        {
          "output_type": "display_data",
          "data": {
            "image/png": "[encoded data removed]",
            "text/plain": [
              "<Figure size 432x288 with 1 Axes>"
            ]
          },
          "metadata": {
            "tags": []
          }
        },
        {
          "output_type": "stream",
          "text": [
            "ga\n",
            "2,851 parent relationships in Wikidata for given language\n",
            "0 parent relationships in DBpedia chapter\n",
            "0 agreements (0.0%)\n",
            "0 DBpedia wins (0.0%)\n",
            "2,851 Wikidata wins (100.0%)\n",
            "0 Wikidata wins on DBpedia people (0.0%)\n",
            "0 DBpedia disagreements (0.0%)\n",
            "0 Wikidata disagreements (0.0%)\n",
            "0 disagreements (0.0%)\n",
            "2,851 total parent relationships\n"
          ],
          "name": "stdout"
        },
        {
          "output_type": "display_data",
          "data": {
            "image/png": "[encoded data removed]",
            "text/plain": [
              "<Figure size 432x288 with 1 Axes>"
            ]
          },
          "metadata": {
            "tags": []
          }
        },
        {
          "output_type": "stream",
          "text": [
            "gl\n",
            "7,976 parent relationships in Wikidata for given language\n",
            "0 parent relationships in DBpedia chapter\n",
            "0 agreements (0.0%)\n",
            "0 DBpedia wins (0.0%)\n",
            "7,976 Wikidata wins (100.0%)\n",
            "0 Wikidata wins on DBpedia people (0.0%)\n",
            "0 DBpedia disagreements (0.0%)\n",
            "0 Wikidata disagreements (0.0%)\n",
            "0 disagreements (0.0%)\n",
            "7,976 total parent relationships\n"
          ],
          "name": "stdout"
        },
        {
          "output_type": "display_data",
          "data": {
            "image/png": "[encoded data removed]",
            "text/plain": [
              "<Figure size 432x288 with 1 Axes>"
            ]
          },
          "metadata": {
            "tags": []
          }
        },
        {
          "output_type": "stream",
          "text": [
            "hi\n",
            "3,610 parent relationships in Wikidata for given language\n",
            "0 parent relationships in DBpedia chapter\n",
            "0 agreements (0.0%)\n",
            "0 DBpedia wins (0.0%)\n",
            "3,610 Wikidata wins (100.0%)\n",
            "0 Wikidata wins on DBpedia people (0.0%)\n",
            "0 DBpedia disagreements (0.0%)\n",
            "0 Wikidata disagreements (0.0%)\n",
            "0 disagreements (0.0%)\n",
            "3,610 total parent relationships\n"
          ],
          "name": "stdout"
        },
        {
          "output_type": "display_data",
          "data": {
            "image/png": "[encoded data removed]",
            "text/plain": [
              "<Figure size 432x288 with 1 Axes>"
            ]
          },
          "metadata": {
            "tags": []
          }
        },
        {
          "output_type": "stream",
          "text": [
            "hr\n",
            "8,589 parent relationships in Wikidata for given language\n",
            "427 parent relationships in DBpedia chapter\n",
            "349 agreements (4.0%)\n",
            "59 DBpedia wins (0.7%)\n",
            "8,211 Wikidata wins (95.3%)\n",
            "261 Wikidata wins on DBpedia people (3.0%)\n",
            "19 DBpedia disagreements (0.2%)\n",
            "29 Wikidata disagreements (0.3%)\n",
            "48 disagreements (0.6%)\n",
            "8,619 total parent relationships\n"
          ],
          "name": "stdout"
        },
        {
          "output_type": "display_data",
          "data": {
            "image/png": "[encoded data removed]",
            "text/plain": [
              "<Figure size 432x288 with 1 Axes>"
            ]
          },
          "metadata": {
            "tags": []
          }
        },
        {
          "output_type": "stream",
          "text": [
            "hu\n",
            "18,051 parent relationships in Wikidata for given language\n",
            "2,710 parent relationships in DBpedia chapter\n",
            "2,489 agreements (13.7%)\n",
            "157 DBpedia wins (0.9%)\n",
            "15,473 Wikidata wins (85.4%)\n",
            "730 Wikidata wins on DBpedia people (4.0%)\n",
            "64 DBpedia disagreements (0.4%)\n",
            "89 Wikidata disagreements (0.5%)\n",
            "153 disagreements (0.8%)\n",
            "18,119 total parent relationships\n"
          ],
          "name": "stdout"
        },
        {
          "output_type": "display_data",
          "data": {
            "image/png": "[encoded data removed]",
            "text/plain": [
              "<Figure size 432x288 with 1 Axes>"
            ]
          },
          "metadata": {
            "tags": []
          }
        },
        {
          "output_type": "stream",
          "text": [
            "hy\n",
            "7,956 parent relationships in Wikidata for given language\n",
            "0 parent relationships in DBpedia chapter\n",
            "0 agreements (0.0%)\n",
            "0 DBpedia wins (0.0%)\n",
            "7,956 Wikidata wins (100.0%)\n",
            "0 Wikidata wins on DBpedia people (0.0%)\n",
            "0 DBpedia disagreements (0.0%)\n",
            "0 Wikidata disagreements (0.0%)\n",
            "0 disagreements (0.0%)\n",
            "7,956 total parent relationships\n"
          ],
          "name": "stdout"
        },
        {
          "output_type": "display_data",
          "data": {
            "image/png": "[encoded data removed]",
            "text/plain": [
              "<Figure size 432x288 with 1 Axes>"
            ]
          },
          "metadata": {
            "tags": []
          }
        },
        {
          "output_type": "stream",
          "text": [
            "id\n",
            "16,860 parent relationships in Wikidata for given language\n",
            "426 parent relationships in DBpedia chapter\n",
            "122 agreements (0.7%)\n",
            "296 DBpedia wins (1.7%)\n",
            "16,727 Wikidata wins (97.6%)\n",
            "48 Wikidata wins on DBpedia people (0.3%)\n",
            "8 DBpedia disagreements (0.0%)\n",
            "11 Wikidata disagreements (0.1%)\n",
            "19 disagreements (0.1%)\n",
            "17,145 total parent relationships\n"
          ],
          "name": "stdout"
        },
        {
          "output_type": "display_data",
          "data": {
            "image/png": "[encoded data removed]",
            "text/plain": [
              "<Figure size 432x288 with 1 Axes>"
            ]
          },
          "metadata": {
            "tags": []
          }
        },
        {
          "output_type": "stream",
          "text": [
            "it\n",
            "48,925 parent relationships in Wikidata for given language\n",
            "7,885 parent relationships in DBpedia chapter\n",
            "497 agreements (0.9%)\n",
            "6,678 DBpedia wins (12.1%)\n",
            "48,112 Wikidata wins (87.0%)\n",
            "13 Wikidata wins on DBpedia people (0.0%)\n",
            "710 DBpedia disagreements (1.3%)\n",
            "316 Wikidata disagreements (0.6%)\n",
            "1,026 disagreements (1.9%)\n",
            "55,287 total parent relationships\n"
          ],
          "name": "stdout"
        },
        {
          "output_type": "display_data",
          "data": {
            "image/png": "[encoded data removed]",
            "text/plain": [
              "<Figure size 432x288 with 1 Axes>"
            ]
          },
          "metadata": {
            "tags": []
          }
        },
        {
          "output_type": "stream",
          "text": [
            "ja\n",
            "41,747 parent relationships in Wikidata for given language\n",
            "8,214 parent relationships in DBpedia chapter\n",
            "3,292 agreements (7.1%)\n",
            "4,831 DBpedia wins (10.4%)\n",
            "38,366 Wikidata wins (82.5%)\n",
            "248 Wikidata wins on DBpedia people (0.5%)\n",
            "91 DBpedia disagreements (0.2%)\n",
            "89 Wikidata disagreements (0.2%)\n",
            "180 disagreements (0.4%)\n",
            "46,489 total parent relationships\n"
          ],
          "name": "stdout"
        },
        {
          "output_type": "display_data",
          "data": {
            "image/png": "[encoded data removed]",
            "text/plain": [
              "<Figure size 432x288 with 1 Axes>"
            ]
          },
          "metadata": {
            "tags": []
          }
        },
        {
          "output_type": "stream",
          "text": [
            "ko\n",
            "19,764 parent relationships in Wikidata for given language\n",
            "1,239 parent relationships in DBpedia chapter\n",
            "841 agreements (4.2%)\n",
            "363 DBpedia wins (1.8%)\n",
            "18,879 Wikidata wins (94.0%)\n",
            "327 Wikidata wins on DBpedia people (1.6%)\n",
            "35 DBpedia disagreements (0.2%)\n",
            "44 Wikidata disagreements (0.2%)\n",
            "79 disagreements (0.4%)\n",
            "20,083 total parent relationships\n"
          ],
          "name": "stdout"
        },
        {
          "output_type": "display_data",
          "data": {
            "image/png": "[encoded data removed]",
            "text/plain": [
              "<Figure size 432x288 with 1 Axes>"
            ]
          },
          "metadata": {
            "tags": []
          }
        },
        {
          "output_type": "stream",
          "text": [
            "lv\n",
            "4,965 parent relationships in Wikidata for given language\n",
            "90 parent relationships in DBpedia chapter\n",
            "52 agreements (1.0%)\n",
            "35 DBpedia wins (0.7%)\n",
            "4,910 Wikidata wins (98.3%)\n",
            "23 Wikidata wins on DBpedia people (0.5%)\n",
            "3 DBpedia disagreements (0.1%)\n",
            "3 Wikidata disagreements (0.1%)\n",
            "6 disagreements (0.1%)\n",
            "4,997 total parent relationships\n"
          ],
          "name": "stdout"
        },
        {
          "output_type": "display_data",
          "data": {
            "image/png": "[encoded data removed]",
            "text/plain": [
              "<Figure size 432x288 with 1 Axes>"
            ]
          },
          "metadata": {
            "tags": []
          }
        },
        {
          "output_type": "stream",
          "text": [
            "mk\n",
            "4,320 parent relationships in Wikidata for given language\n",
            "333 parent relationships in DBpedia chapter\n",
            "325 agreements (7.5%)\n",
            "2 DBpedia wins (0.0%)\n",
            "3,986 Wikidata wins (92.4%)\n",
            "196 Wikidata wins on DBpedia people (4.5%)\n",
            "6 DBpedia disagreements (0.1%)\n",
            "9 Wikidata disagreements (0.2%)\n",
            "15 disagreements (0.3%)\n",
            "4,313 total parent relationships\n"
          ],
          "name": "stdout"
        },
        {
          "output_type": "display_data",
          "data": {
            "image/png": "[encoded data removed]",
            "text/plain": [
              "<Figure size 432x288 with 1 Axes>"
            ]
          },
          "metadata": {
            "tags": []
          }
        },
        {
          "output_type": "stream",
          "text": [
            "nl\n",
            "34,147 parent relationships in Wikidata for given language\n",
            "3,856 parent relationships in DBpedia chapter\n",
            "3,642 agreements (10.7%)\n",
            "86 DBpedia wins (0.3%)\n",
            "30,310 Wikidata wins (89.0%)\n",
            "1,233 Wikidata wins on DBpedia people (3.6%)\n",
            "128 DBpedia disagreements (0.4%)\n",
            "195 Wikidata disagreements (0.6%)\n",
            "323 disagreements (0.9%)\n",
            "34,038 total parent relationships\n"
          ],
          "name": "stdout"
        },
        {
          "output_type": "display_data",
          "data": {
            "image/png": "[encoded data removed]",
            "text/plain": [
              "<Figure size 432x288 with 1 Axes>"
            ]
          },
          "metadata": {
            "tags": []
          }
        },
        {
          "output_type": "stream",
          "text": [
            "pl\n",
            "38,271 parent relationships in Wikidata for given language\n",
            "0 parent relationships in DBpedia chapter\n",
            "0 agreements (0.0%)\n",
            "0 DBpedia wins (0.0%)\n",
            "38,271 Wikidata wins (100.0%)\n",
            "0 Wikidata wins on DBpedia people (0.0%)\n",
            "0 DBpedia disagreements (0.0%)\n",
            "0 Wikidata disagreements (0.0%)\n",
            "0 disagreements (0.0%)\n",
            "38,271 total parent relationships\n"
          ],
          "name": "stdout"
        },
        {
          "output_type": "display_data",
          "data": {
            "image/png": "[encoded data removed]",
            "text/plain": [
              "<Figure size 432x288 with 1 Axes>"
            ]
          },
          "metadata": {
            "tags": []
          }
        },
        {
          "output_type": "stream",
          "text": [
            "pt\n",
            "33,150 parent relationships in Wikidata for given language\n",
            "2,289 parent relationships in DBpedia chapter\n",
            "1,945 agreements (5.8%)\n",
            "271 DBpedia wins (0.8%)\n",
            "31,110 Wikidata wins (93.4%)\n",
            "534 Wikidata wins on DBpedia people (1.6%)\n",
            "73 DBpedia disagreements (0.2%)\n",
            "95 Wikidata disagreements (0.3%)\n",
            "168 disagreements (0.5%)\n",
            "33,326 total parent relationships\n"
          ],
          "name": "stdout"
        },
        {
          "output_type": "display_data",
          "data": {
            "image/png": "[encoded data removed]",
            "text/plain": [
              "<Figure size 432x288 with 1 Axes>"
            ]
          },
          "metadata": {
            "tags": []
          }
        },
        {
          "output_type": "stream",
          "text": [
            "ro\n",
            "14,417 parent relationships in Wikidata for given language\n",
            "1 parent relationships in DBpedia chapter\n",
            "0 agreements (0.0%)\n",
            "1 DBpedia wins (0.0%)\n",
            "14,417 Wikidata wins (100.0%)\n",
            "0 Wikidata wins on DBpedia people (0.0%)\n",
            "0 DBpedia disagreements (0.0%)\n",
            "0 Wikidata disagreements (0.0%)\n",
            "0 disagreements (0.0%)\n",
            "14,418 total parent relationships\n"
          ],
          "name": "stdout"
        },
        {
          "output_type": "display_data",
          "data": {
            "image/png": "[encoded data removed]",
            "text/plain": [
              "<Figure size 432x288 with 1 Axes>"
            ]
          },
          "metadata": {
            "tags": []
          }
        },
        {
          "output_type": "stream",
          "text": [
            "ru\n",
            "55,570 parent relationships in Wikidata for given language\n",
            "13,138 parent relationships in DBpedia chapter\n",
            "12,153 agreements (21.9%)\n",
            "523 DBpedia wins (0.9%)\n",
            "42,887 Wikidata wins (77.2%)\n",
            "2,795 Wikidata wins on DBpedia people (5.0%)\n",
            "462 DBpedia disagreements (0.8%)\n",
            "530 Wikidata disagreements (1.0%)\n",
            "992 disagreements (1.8%)\n",
            "55,563 total parent relationships\n"
          ],
          "name": "stdout"
        },
        {
          "output_type": "display_data",
          "data": {
            "image/png": "[encoded data removed]",
            "text/plain": [
              "<Figure size 432x288 with 1 Axes>"
            ]
          },
          "metadata": {
            "tags": []
          }
        },
        {
          "output_type": "stream",
          "text": [
            "sk\n",
            "8,059 parent relationships in Wikidata for given language\n",
            "0 parent relationships in DBpedia chapter\n",
            "0 agreements (0.0%)\n",
            "0 DBpedia wins (0.0%)\n",
            "8,059 Wikidata wins (100.0%)\n",
            "0 Wikidata wins on DBpedia people (0.0%)\n",
            "0 DBpedia disagreements (0.0%)\n",
            "0 Wikidata disagreements (0.0%)\n",
            "0 disagreements (0.0%)\n",
            "8,059 total parent relationships\n"
          ],
          "name": "stdout"
        },
        {
          "output_type": "display_data",
          "data": {
            "image/png": "[encoded data removed]",
            "text/plain": [
              "<Figure size 432x288 with 1 Axes>"
            ]
          },
          "metadata": {
            "tags": []
          }
        },
        {
          "output_type": "stream",
          "text": [
            "sl\n",
            "6,195 parent relationships in Wikidata for given language\n",
            "320 parent relationships in DBpedia chapter\n",
            "219 agreements (3.5%)\n",
            "86 DBpedia wins (1.4%)\n",
            "5,958 Wikidata wins (95.1%)\n",
            "125 Wikidata wins on DBpedia people (2.0%)\n",
            "15 DBpedia disagreements (0.2%)\n",
            "18 Wikidata disagreements (0.3%)\n",
            "33 disagreements (0.5%)\n",
            "6,263 total parent relationships\n"
          ],
          "name": "stdout"
        },
        {
          "output_type": "display_data",
          "data": {
            "image/png": "[encoded data removed]",
            "text/plain": [
              "<Figure size 432x288 with 1 Axes>"
            ]
          },
          "metadata": {
            "tags": []
          }
        },
        {
          "output_type": "stream",
          "text": [
            "sr\n",
            "11,578 parent relationships in Wikidata for given language\n",
            "0 parent relationships in DBpedia chapter\n",
            "0 agreements (0.0%)\n",
            "0 DBpedia wins (0.0%)\n",
            "11,578 Wikidata wins (100.0%)\n",
            "0 Wikidata wins on DBpedia people (0.0%)\n",
            "0 DBpedia disagreements (0.0%)\n",
            "0 Wikidata disagreements (0.0%)\n",
            "0 disagreements (0.0%)\n",
            "11,578 total parent relationships\n"
          ],
          "name": "stdout"
        },
        {
          "output_type": "display_data",
          "data": {
            "image/png": "[encoded data removed]",
            "text/plain": [
              "<Figure size 432x288 with 1 Axes>"
            ]
          },
          "metadata": {
            "tags": []
          }
        },
        {
          "output_type": "stream",
          "text": [
            "sv\n",
            "34,501 parent relationships in Wikidata for given language\n",
            "618 parent relationships in DBpedia chapter\n",
            "375 agreements (1.1%)\n",
            "237 DBpedia wins (0.7%)\n",
            "34,121 Wikidata wins (98.2%)\n",
            "41 Wikidata wins on DBpedia people (0.1%)\n",
            "6 DBpedia disagreements (0.0%)\n",
            "5 Wikidata disagreements (0.0%)\n",
            "11 disagreements (0.0%)\n",
            "34,733 total parent relationships\n"
          ],
          "name": "stdout"
        },
        {
          "output_type": "display_data",
          "data": {
            "image/png": "[encoded data removed]",
            "text/plain": [
              "<Figure size 432x288 with 1 Axes>"
            ]
          },
          "metadata": {
            "tags": []
          }
        },
        {
          "output_type": "stream",
          "text": [
            "tr\n",
            "12,083 parent relationships in Wikidata for given language\n",
            "259 parent relationships in DBpedia chapter\n",
            "141 agreements (1.2%)\n",
            "105 DBpedia wins (0.9%)\n",
            "11,925 Wikidata wins (98.0%)\n",
            "47 Wikidata wins on DBpedia people (0.4%)\n",
            "13 DBpedia disagreements (0.1%)\n",
            "17 Wikidata disagreements (0.1%)\n",
            "30 disagreements (0.2%)\n",
            "12,171 total parent relationships\n"
          ],
          "name": "stdout"
        },
        {
          "output_type": "display_data",
          "data": {
            "image/png": "[encoded data removed]",
            "text/plain": [
              "<Figure size 432x288 with 1 Axes>"
            ]
          },
          "metadata": {
            "tags": []
          }
        },
        {
          "output_type": "stream",
          "text": [
            "uk\n",
            "28,352 parent relationships in Wikidata for given language\n",
            "562 parent relationships in DBpedia chapter\n",
            "482 agreements (1.7%)\n",
            "60 DBpedia wins (0.2%)\n",
            "27,844 Wikidata wins (98.1%)\n",
            "250 Wikidata wins on DBpedia people (0.9%)\n",
            "20 DBpedia disagreements (0.1%)\n",
            "26 Wikidata disagreements (0.1%)\n",
            "46 disagreements (0.2%)\n",
            "28,386 total parent relationships\n"
          ],
          "name": "stdout"
        },
        {
          "output_type": "display_data",
          "data": {
            "image/png": "[encoded data removed]",
            "text/plain": [
              "<Figure size 432x288 with 1 Axes>"
            ]
          },
          "metadata": {
            "tags": []
          }
        },
        {
          "output_type": "stream",
          "text": [
            "vi\n",
            "12,384 parent relationships in Wikidata for given language\n",
            "3 parent relationships in DBpedia chapter\n",
            "0 agreements (0.0%)\n",
            "3 DBpedia wins (0.0%)\n",
            "12,384 Wikidata wins (100.0%)\n",
            "0 Wikidata wins on DBpedia people (0.0%)\n",
            "0 DBpedia disagreements (0.0%)\n",
            "0 Wikidata disagreements (0.0%)\n",
            "0 disagreements (0.0%)\n",
            "12,387 total parent relationships\n"
          ],
          "name": "stdout"
        },
        {
          "output_type": "display_data",
          "data": {
            "image/png": "[encoded data removed]",
            "text/plain": [
              "<Figure size 432x288 with 1 Axes>"
            ]
          },
          "metadata": {
            "tags": []
          }
        }
      ]
    },
    {
      "cell_type": "markdown",
      "metadata": {
        "id": "R5GwTyH88JPl",
        "colab_type": "text"
      },
      "source": [
        "In all languages but Italian (it) and Japanese (ja) Wikidata achieves a coverage of over 97%. In Italian, the coverage is 86% (but note that it contains many errors, as we will see in the Section \"Accuracy\"), and in Japanese 88%.\n",
        "\n",
        "There are a number of languages that provide such a small difference that it would be easy to just go through them and either integrate them in Wikidata, or reject them as being wrong.\n",
        "\n",
        "For the chapters that have larger differences, a more coordinated approach might be useful."
      ]
    },
    {
      "cell_type": "code",
      "metadata": {
        "id": "hfLp8ouX9nwX",
        "colab_type": "code",
        "outputId": "69b5afcb-b8ae-42f3-b509-f2fb7d506963",
        "colab": {
          "base_uri": "https://localhost:8080/",
          "height": 555
        }
      },
      "source": [
        "def show_barchart(n):\n",
        "  m = { k:v for k,v in n.items() if v }\n",
        "  plt.bar(m.keys(), m.values())\n",
        "  plt.plot()\n",
        "  plt.show()\n",
        "\n",
        "print('Total number of disagreements')\n",
        "show_barchart(dbdisagreementsperlang)\n",
        "\n",
        "print('Total number of new data')\n",
        "show_barchart(dbwinsperlang)"
      ],
      "execution_count": 19,
      "outputs": [
        {
          "output_type": "stream",
          "text": [
            "Total number of disagreements\n"
          ],
          "name": "stdout"
        },
        {
          "output_type": "display_data",
          "data": {
            "image/png": "[encoded data removed]",
            "text/plain": [
              "<Figure size 432x288 with 1 Axes>"
            ]
          },
          "metadata": {
            "tags": []
          }
        },
        {
          "output_type": "stream",
          "text": [
            "Total number of new data\n"
          ],
          "name": "stdout"
        },
        {
          "output_type": "display_data",
          "data": {
            "image/png": "[encoded data removed]",
            "text/plain": [
              "<Figure size 432x288 with 1 Axes>"
            ]
          },
          "metadata": {
            "tags": []
          }
        }
      ]
    },
    {
      "cell_type": "markdown",
      "metadata": {
        "id": "4MTHAfFWFE_j",
        "colab_type": "text"
      },
      "source": [
        "## DBpedia Fusion and Wikidata\n",
        "\n",
        "Here we compare the DBpedia Fusion dataset with the Wikidata dataset."
      ]
    },
    {
      "cell_type": "code",
      "metadata": {
        "id": "3O3O63D6F-JK",
        "colab_type": "code",
        "outputId": "86c10cd6-1954-4294-ce4c-db57c48dd700",
        "colab": {
          "base_uri": "https://localhost:8080/",
          "height": 455
        }
      },
      "source": [
        "import matplotlib.pyplot as plt\n",
        "\n",
        "def coverage_fusion():\n",
        "  wdcount = sum(len(wdparent[parents]) for parents in wdparent)\n",
        "  print('{:,} parent relationships in Wikidata'.format(wdcount))\n",
        "  print('{:,} parent relationships in DBpedia'.format(fuseparentcount))\n",
        "\n",
        "  agreed = 0\n",
        "  dbdisagreed = 0\n",
        "  wddisagreed = 0\n",
        "  dbwincontrast = 0\n",
        "  wdwincontrast = 0\n",
        "\n",
        "  for child in fuseparent:\n",
        "    dbparents = fuseparent[child][:]\n",
        "    wdparents = []\n",
        "    if child in wdparent: wdparents = wdparent[child][:]\n",
        "\n",
        "    for parent in dbparents + wdparents:\n",
        "      if parent in dbparents and parent in wdparents:\n",
        "        dbparents.remove(parent)\n",
        "        wdparents.remove(parent)\n",
        "        agreed += 1\n",
        "    if dbparents and wdparents:\n",
        "      dbdisagreed += len(dbparents)\n",
        "      wddisagreed += len(wdparents)\n",
        "      continue\n",
        "    if dbparents:\n",
        "      dbwincontrast += len(dbparents)\n",
        "    if wdparents:\n",
        "      wdwincontrast += len(wdparents)\n",
        "\n",
        "  total = wdcount + fuseparentcount - (dbdisagreed + wddisagreed + agreed)\n",
        "  wdwin = wdcount - (wddisagreed + agreed)\n",
        "  dbwin = fuseparentcount - (dbdisagreed + agreed)\n",
        "\n",
        "  print('{:,} agreements ({:.1%})'.format(agreed, agreed/total))\n",
        "  print('{:,} DBpedia wins ({:.1%})'.format(dbwin, dbwin/total))\n",
        "  print('{:,} DBpedia wins on Wikidata people ({:.1%})'.format(dbwincontrast, dbwincontrast/total))\n",
        "  print('{:,} Wikidata wins ({:.1%})'.format(wdwin, wdwin/total))\n",
        "  print('{:,} Wikidata wins on DBpedia people ({:.1%})'.format(wdwincontrast, wdwincontrast/total))\n",
        "  print('{:,} DBpedia disagreements ({:.1%})'.format(dbdisagreed, dbdisagreed/total))\n",
        "  print('{:,} Wikidata disagreements ({:.1%})'.format(wddisagreed, wddisagreed/total))\n",
        "  print('{:,} disagreements ({:.1%})'.format(dbdisagreed + wddisagreed, (dbdisagreed + wddisagreed)/total))\n",
        "  print('{:,} total parent relationships'.format(total))\n",
        "\n",
        "  labels = 'DBpedia', 'DBpedia mapped', 'Agree', 'Wikidata mapped', 'Wikidata', 'Disagree'\n",
        "  sections = dbwin-dbwincontrast, dbwincontrast, agreed, wdwin-wdwincontrast, wdwin, dbdisagreed + wddisagreed\n",
        "\n",
        "  plt.pie(sections, labels = labels, autopct = '%1.2f%%', startangle= 90)\n",
        "  plt.title('DBpedia')\n",
        "  plt.show()\n",
        "  \n",
        "coverage_fusion()\n"
      ],
      "execution_count": 20,
      "outputs": [
        {
          "output_type": "stream",
          "text": [
            "278,334 parent relationships in Wikidata\n",
            "49,663 parent relationships in DBpedia\n",
            "24,998 agreements (8.3%)\n",
            "23,489 DBpedia wins (7.8%)\n",
            "5,901 DBpedia wins on Wikidata people (2.0%)\n",
            "251,835 Wikidata wins (83.9%)\n",
            "11,760 Wikidata wins on DBpedia people (3.9%)\n",
            "1,176 DBpedia disagreements (0.4%)\n",
            "1,501 Wikidata disagreements (0.5%)\n",
            "2,677 disagreements (0.9%)\n",
            "300,322 total parent relationships\n"
          ],
          "name": "stdout"
        },
        {
          "output_type": "display_data",
          "data": {
            "image/png": "[encoded data removed]",
            "text/plain": [
              "<Figure size 432x288 with 1 Axes>"
            ]
          },
          "metadata": {
            "tags": []
          }
        }
      ]
    },
    {
      "cell_type": "markdown",
      "metadata": {
        "id": "tPkEQGGrweXX",
        "colab_type": "text"
      },
      "source": [
        "This is surprising: since the Fusion dataset includes Wikidata, a much larger agreement should be expected.\n",
        "\n",
        "/todo(vrandecic): Huh? Looks wrong. Sebastian, any ideas? Is it maybe just the timing of the datasets?"
      ]
    },
    {
      "cell_type": "markdown",
      "metadata": {
        "id": "JJha9OXYIay1",
        "colab_type": "text"
      },
      "source": [
        "## Freebase and Wikidata\n",
        "\n",
        "Here we compare the Freebase dataset with the Wikidata dataset."
      ]
    },
    {
      "cell_type": "code",
      "metadata": {
        "id": "DKYHuQ9zk1_s",
        "colab_type": "code",
        "outputId": "ea7813ad-5726-4f33-ce89-03b4b65fc5ae",
        "colab": {
          "base_uri": "https://localhost:8080/",
          "height": 455
        }
      },
      "source": [
        "import matplotlib.pyplot as plt\n",
        "\n",
        "def coverage_fb():\n",
        "  wdcount = sum(len(wdparent[parents]) for parents in wdparent)\n",
        "  print('{:,} parent relationships in Wikidata'.format(wdcount))\n",
        "  print('{:,} parent relationships in Freebase'.format(fbparentcount))\n",
        "\n",
        "  agreed = 0\n",
        "  fbdisagreed = 0\n",
        "  wddisagreed = 0\n",
        "  fbwincontrast = 0\n",
        "  wdwincontrast = 0\n",
        "\n",
        "  for child in fbparent:\n",
        "    fbparents = fbparent[child][:]\n",
        "    wdparents = []\n",
        "    if child in wdparent: wdparents = wdparent[child][:]\n",
        "\n",
        "    for parent in fbparents + wdparents:\n",
        "      if parent in fbparents and parent in wdparents:\n",
        "        fbparents.remove(parent)\n",
        "        wdparents.remove(parent)\n",
        "        agreed += 1\n",
        "    if fbparents and wdparents:\n",
        "      fbdisagreed += len(fbparents)\n",
        "      wddisagreed += len(wdparents)\n",
        "      continue\n",
        "    if fbparents:\n",
        "      fbwincontrast += len(fbparents)\n",
        "    if wdparents:\n",
        "      wdwincontrast += len(wdparents)\n",
        "\n",
        "  total = wdcount + fbparentcount - (fbdisagreed + wddisagreed + agreed)\n",
        "  wdwin = wdcount - (wddisagreed + agreed)\n",
        "  fbwin = fbparentcount - (fbdisagreed + agreed)\n",
        "\n",
        "  print('{:,} agreements ({:.1%})'.format(agreed, agreed/total))\n",
        "  print('{:,} Freebase wins ({:.1%})'.format(fbwin, fbwin/total))\n",
        "  print('{:,} Freebase wins on Wikidata people ({:.1%})'.format(fbwincontrast, fbwincontrast/total))\n",
        "  print('{:,} Wikidata wins ({:.1%})'.format(wdwin, wdwin/total))\n",
        "  print('{:,} Wikidata wins on DBpedia people ({:.1%})'.format(wdwincontrast, wdwincontrast/total))\n",
        "  print('{:,} Freebase disagreements ({:.1%})'.format(fbdisagreed, fbdisagreed/total))\n",
        "  print('{:,} Wikidata disagreements ({:.1%})'.format(wddisagreed, wddisagreed/total))\n",
        "  print('{:,} disagreements ({:.1%})'.format(fbdisagreed + wddisagreed, (fbdisagreed + wddisagreed)/total))\n",
        "  print('{:,} total parent relationships'.format(total))\n",
        "\n",
        "  labels = 'Freebase', 'Freebase mapped', 'Agree', 'Wikidata mapped', 'Wikidata', 'Disagree'\n",
        "  sections = fbwin-fbwincontrast, fbwincontrast, agreed, wdwin-wdwincontrast, wdwin, fbdisagreed + wddisagreed\n",
        "\n",
        "  plt.pie(sections, labels = labels, autopct = '%1.2f%%', startangle= 90)\n",
        "\n",
        "  plt.title('Freebase')\n",
        "  plt.show()\n",
        "  \n",
        "coverage_fb()\n"
      ],
      "execution_count": 21,
      "outputs": [
        {
          "output_type": "stream",
          "text": [
            "278,334 parent relationships in Wikidata\n",
            "382,502 parent relationships in Freebase\n",
            "31,304 agreements (5.0%)\n",
            "350,678 Freebase wins (55.8%)\n",
            "3,988 Freebase wins on Wikidata people (0.6%)\n",
            "246,431 Wikidata wins (39.2%)\n",
            "5,166 Wikidata wins on DBpedia people (0.8%)\n",
            "520 Freebase disagreements (0.1%)\n",
            "599 Wikidata disagreements (0.1%)\n",
            "1,119 disagreements (0.2%)\n",
            "628,413 total parent relationships\n"
          ],
          "name": "stdout"
        },
        {
          "output_type": "display_data",
          "data": {
            "image/png": "[encoded data removed]",
            "text/plain": [
              "<Figure size 432x288 with 1 Axes>"
            ]
          },
          "metadata": {
            "tags": []
          }
        }
      ]
    },
    {
      "cell_type": "markdown",
      "metadata": {
        "id": "CVzLTVJXwX-Q",
        "colab_type": "text"
      },
      "source": [
        "# Accuracy\n",
        "\n",
        "In the following, we evaluate the correctness of some samples of the data. For this analysis we assume that Wikipedia is correct - i.e. we do not go and check the data against external primary sources, but merely check manually whether the data is confirmed by the Wikipedia artcle. We also made sure that the data is not confirmed by Wikipedia solely because it actually displays the data from Wikidata."
      ]
    },
    {
      "cell_type": "code",
      "metadata": {
        "id": "QI4RMojlwafm",
        "colab_type": "code",
        "colab": {}
      },
      "source": [
        "import random\n",
        "\n",
        "ALL = -1\n",
        "\n",
        "wd = 'https://www.wikidata.org/wiki/'\n",
        "def linkone(s): return '[{}]({}{})'.format(name_from_qid(s), wd, s)\n",
        "def link(l): return ', '.join(list(map(linkone, l)))\n",
        "\n",
        "def disagreements(this_parents, that_parents, count = ALL):\n",
        "  conflicts = []\n",
        "\n",
        "  for child in this_parents:\n",
        "    this_parent = this_parents[child][:]\n",
        "    if child not in that_parents: continue\n",
        "    that_parent = that_parents[child][:]\n",
        "\n",
        "    for parent in this_parent + that_parent:\n",
        "      if parent in this_parent and parent in that_parent:\n",
        "        this_parent.remove(parent)\n",
        "        that_parent.remove(parent)\n",
        "\n",
        "    if this_parent and that_parent:\n",
        "      conflicts += [(child, this_parent, that_parent)]\n",
        "\n",
        "  if count < 1 or count > len(conflicts): return conflicts\n",
        "  return random.sample(conflicts, count)\n",
        "\n",
        "def wins(this_parents, that_parents, count = ALL):\n",
        "  wins = []\n",
        "\n",
        "  for child in this_parents:\n",
        "    this_parent = this_parents[child][:]\n",
        "    if child not in that_parents:\n",
        "      wins += [(child, this_parent)]\n",
        "      continue\n",
        "    that_parent = that_parents[child][:]\n",
        "\n",
        "    for parent in this_parent + that_parent:\n",
        "      if parent in this_parent and parent in that_parent:\n",
        "        this_parent.remove(parent)\n",
        "        that_parent.remove(parent)\n",
        "\n",
        "    if this_parent and that_parent:\n",
        "      continue\n",
        "    \n",
        "    if this_parent:\n",
        "      wins += [(child, this_parent)]\n",
        "\n",
        "  if count < 1 or count > len(wins): return wins\n",
        "  return random.sample(wins, count)\n",
        "\n",
        "def print_disagreements(this_parents, that_parents, count = ALL):\n",
        "  conflicts = disagreements(this_parents, that_parents, count)\n",
        "  print('Child | This | That | Assessment')\n",
        "  print('--|--|--|--')\n",
        "  for c in conflicts:\n",
        "    print(linkone(c[0]), '|', link(c[1]), '|', link(c[2]), '|')\n",
        "\n",
        "def print_wins(this_parents, that_parents, count = ALL):\n",
        "  headroom = wins(this_parents, that_parents, count)\n",
        "  print('Child|Parent|Assessment')\n",
        "  print('--|--|--')\n",
        "  for w in headroom:\n",
        "    print(linkone(w[0]), '|', link(w[1]), '|')"
      ],
      "execution_count": 0,
      "outputs": []
    },
    {
      "cell_type": "markdown",
      "metadata": {
        "id": "kzOVQ-y6Zna-",
        "colab_type": "text"
      },
      "source": [
        "## DBpedia chapters and Wikidata\n",
        "\n",
        "In the following we can see how some of the DBpedia chapters compare to Wikidata.\n",
        "\n",
        "As we have seen in the coverage analysis, the only datasets that are large enough to warrant sampling for disagreements are Italian, Russian, and English, and for missing coverage Italian, Japanese, and English.\n",
        "\n",
        "We took a random sample of 10 disagreements from Italian, Russian, and English, and a random sample of 10 potential gaps offered by English, Italian, and Japanese, and checked for their correctness manually."
      ]
    },
    {
      "cell_type": "markdown",
      "metadata": {
        "id": "P6DcJTTIzxzS",
        "colab_type": "text"
      },
      "source": [
        "### Accuracy of the English chapter\n",
        "\n",
        "Disagreements in English:"
      ]
    },
    {
      "cell_type": "code",
      "metadata": {
        "id": "g_ePbWXK4LE8",
        "colab_type": "code",
        "outputId": "0461b98c-0cb8-49bc-9d47-8128f422fdad",
        "colab": {
          "base_uri": "https://localhost:8080/",
          "height": 241
        }
      },
      "source": [
        "print_disagreements(dbparent['en'], wdparent, 10)"
      ],
      "execution_count": 23,
      "outputs": [
        {
          "output_type": "stream",
          "text": [
            "Child | This | That | Assessment\n",
            "--|--|--|--\n",
            "[Robert II of Namur](https://www.wikidata.org/wiki/Q728394) | [Charles, Duke of Lower Lorraine](https://www.wikidata.org/wiki/Q469603) | [Ermengarde of Lower Lotharingia](https://www.wikidata.org/wiki/Q990836) |\n",
            "[Shi Chonggui](https://www.wikidata.org/wiki/Q1319472) | [Empress Li](https://www.wikidata.org/wiki/Q8256350) | [Danjing Ru](https://www.wikidata.org/wiki/Q10439991) |\n",
            "[Margareta Fouché](https://www.wikidata.org/wiki/Q95379) | [Duke of Otranto](https://www.wikidata.org/wiki/Q509596) | [Charles-Louis Fouché of Otranto](https://www.wikidata.org/wiki/Q2958197) |\n",
            "[Gerry Conlon](https://www.wikidata.org/wiki/Q3104332) | [Sarah Conlon](https://www.wikidata.org/wiki/Q7422201) | [Patrick Conlon](https://www.wikidata.org/wiki/Q50077605) |\n",
            "[Salomea of Berg](https://www.wikidata.org/wiki/Q68567) | [Henry of Sandomierz](https://www.wikidata.org/wiki/Q1973049) | [Henry I of Berg](https://www.wikidata.org/wiki/Q30301558), [Adelaide of Mochental](https://www.wikidata.org/wiki/Q61314170) |\n",
            "[William IX, Marquess of Montferrat](https://www.wikidata.org/wiki/Q1272767) | [Maria Paleologa](https://www.wikidata.org/wiki/Q3847451) | [Marija Branković](https://www.wikidata.org/wiki/Q23769818) |\n",
            "[Queen Dangyeong](https://www.wikidata.org/wiki/Q483509) | [Kwon Ram](https://www.wikidata.org/wiki/Q483026) | [Shin Su-geun](https://www.wikidata.org/wiki/Q11074080) |\n",
            "[Kenneth III of Scotland](https://www.wikidata.org/wiki/Q221229) | [Kingdom of Alba](https://www.wikidata.org/wiki/Q1991742) | [Dub](https://www.wikidata.org/wiki/Q363154) |\n",
            "[Kung Te-cheng](https://www.wikidata.org/wiki/Q698846) | [Duke Yansheng](https://www.wikidata.org/wiki/Q5312919) | [Kong Lingyi](https://www.wikidata.org/wiki/Q10944218) |\n",
            "[Saad Al-Abdullah Al-Salim Al-Sabah](https://www.wikidata.org/wiki/Q313661) | [sheikh](https://www.wikidata.org/wiki/Q185166) | [Abdullah III Al-Salim Al-Sabah](https://www.wikidata.org/wiki/Q2183167) |\n"
          ],
          "name": "stdout"
        }
      ]
    },
    {
      "cell_type": "markdown",
      "metadata": {
        "id": "-byj3l_PZ84v",
        "colab_type": "text"
      },
      "source": [
        "Here are the results that we took, annotated with a correctness assessment.\n",
        "\n",
        "Child | en.DBpedia | Wikidata | Assessment\n",
        "--|--|--|--\n",
        "[Al-nadr](https://www.wikidata.org/wiki/Q12194387) | [Banu Kinanah](https://www.wikidata.org/wiki/Q2882516) | [Kinanah bin Khuzaimah](https://www.wikidata.org/wiki/Q6842082) | Wikidata is correct\n",
        "[Henry I, Count of Vianden](https://www.wikidata.org/wiki/Q883733) |   [Counts of Vianden](https://www.wikidata.org/wiki/Q319057)|  [Frederic III of Vianden](https://www.wikidata.org/wiki/Q1459960)| Wikidata is correct\n",
        "[Rudolph of France](https://www.wikidata.org/wiki/Q273273)|   [Adélaïde de Bourgogne](https://www.wikidata.org/wiki/Q20638741)| [Adélaïde de Bourgogne](https://www.wikidata.org/wiki/Q15973116) | redirect, both are correct\n",
        "[Otumfuo Nana Osei Tutu II](https://www.wikidata.org/wiki/Q370522) |   [list of rulers of Asante](https://www.wikidata.org/wiki/Q452581) |  [Nana Afia Kobi Serwaa Ampem II](https://www.wikidata.org/wiki/Q22279359) |Wikidata is correct\n",
        "[Christian Albert, Margrave of Brandenburg-Ansbach](https://www.wikidata.org/wiki/Q540845) |   [Johanna Elisabeth of Baden-Durlach](https://www.wikidata.org/wiki/Q456930) |  [Johanna Elisabeth of Baden-Durlach](https://www.wikidata.org/wiki/Q6418921) | Wikidata is correct\n",
        "[Pacorus II of Parthia](https://www.wikidata.org/wiki/Q163721) | [Greeks](https://www.wikidata.org/wiki/Q539051) | [Vonones II of Parthia](https://www.wikidata.org/wiki/Q318152) | Wikidata is correct\n",
        "[Marie José of Belgium](https://www.wikidata.org/wiki/Q72919) | [Albert I of Belgium](https://www.wikidata.org/wiki/Q12974) |  [Albert I of Belgium](https://www.wikidata.org/wiki/Q55008046), [Elisabeth of Bavaria, Queen of Belgium](https://www.wikidata.org/wiki/Q235186) | redirect, both are correct\n",
        "[Robert of Vermandois](https://www.wikidata.org/wiki/Q772443) |   [Robert I of France](https://www.wikidata.org/wiki/Q208082) | [Adela of France](https://www.wikidata.org/wiki/Q6051215) | Wikidata is correct\n",
        "[Dayfa Khatun](https://www.wikidata.org/wiki/Q5243147) |  [Sultan of Egypt](https://www.wikidata.org/wiki/Q4115925) |  [Al-Adil I](https://www.wikidata.org/wiki/Q285133) | Wikidata is correct\n",
        "[Owen de la Pole](https://www.wikidata.org/wiki/Q7114718) |  [Gwenwynwyn ap Owain](https://www.wikidata.org/wiki/Q2071159) |  [Gruffydd ap Gwenwynwyn](https://www.wikidata.org/wiki/Q3072975), [Hawise Lestrange](https://www.wikidata.org/wiki/Q18560109) | Wikidata is correct\n"
      ]
    },
    {
      "cell_type": "code",
      "metadata": {
        "id": "kribGQNKJ7XT",
        "colab_type": "code",
        "outputId": "8c855b00-96d3-4f38-c6b6-5a28602f6c53",
        "colab": {
          "base_uri": "https://localhost:8080/",
          "height": 221
        }
      },
      "source": [
        "print_wins(dbparent['en'], wdparent, 10)"
      ],
      "execution_count": 24,
      "outputs": [
        {
          "output_type": "stream",
          "text": [
            "Child|Parent|Assessment\n",
            "--|--|--\n",
            "[Albert Anderson](https://www.wikidata.org/wiki/Q4709630) | [Robert Newton Anderson](https://www.wikidata.org/wiki/Q17308748) |\n",
            "[Saw Mon Hla](https://www.wikidata.org/wiki/Q7428500) | [Saopha](https://www.wikidata.org/wiki/Q3056403) |\n",
            "[Dub](https://www.wikidata.org/wiki/Q363154) | [Scottish monarchs](https://www.wikidata.org/wiki/Q214188) |\n",
            "[Meridel Le Sueur](https://www.wikidata.org/wiki/Q1921674) | [Arthur LeSueur](https://www.wikidata.org/wiki/Q4799467) |\n",
            "[Suppogu Joseph](https://www.wikidata.org/wiki/Q21063834) | [Sri](https://www.wikidata.org/wiki/Q2281983) |\n",
            "[murder of Nubia Barahona](https://www.wikidata.org/wiki/Q6938003) | [adoption](https://www.wikidata.org/wiki/Q180472) |\n",
            "[Sohrab Pirojsha Godrej](https://www.wikidata.org/wiki/Q24284491) | [Pirojsha Godrej](https://www.wikidata.org/wiki/Q7198069) |\n",
            "[Shari Belafonte](https://www.wikidata.org/wiki/Q546551) | [Harry Belafonte](https://www.wikidata.org/wiki/Q214959) |\n",
            "[Alisa Cooper](https://www.wikidata.org/wiki/Q4726924) | [Dolores G. Cooper](https://www.wikidata.org/wiki/Q26838615) |\n",
            "[John Allan Wyeth](https://www.wikidata.org/wiki/Q22019652) | [John Allan Wyeth](https://www.wikidata.org/wiki/Q15983728) |\n"
          ],
          "name": "stdout"
        }
      ]
    },
    {
      "cell_type": "markdown",
      "metadata": {
        "id": "fORkQGvaKqiB",
        "colab_type": "text"
      },
      "source": [
        "Child|Parent|Assessment\n",
        "--|--|--\n",
        "[David Gorcey](https://www.wikidata.org/wiki/Q5234247) | [Bernard Gorcey](https://www.wikidata.org/wiki/Q2897984) | Correct\n",
        "[Orsolya Szilágyi](https://www.wikidata.org/wiki/Q20974152) | [Ladislaus Szilágyi](https://www.wikidata.org/wiki/Q1298519) | Correct\n",
        "[Eustace Folville](https://www.wikidata.org/wiki/Q5414298) | [John Folville](https://www.wikidata.org/wiki/Q21932382) | Correct\n",
        "[Robert Morrison Olyphant](https://www.wikidata.org/wiki/Q16975188) | [David Olyphant](https://www.wikidata.org/wiki/Q17047957) |  Correct\n",
        "[Zhang Mo](https://www.wikidata.org/wiki/Q9137627) | [Deng Jie](https://www.wikidata.org/wiki/Q835057) | Stepmother\n",
        "[Rahimah Rahim](https://www.wikidata.org/wiki/Q16734860) | [Mariam Baharum](https://www.wikidata.org/wiki/Q6761781) | Correct\n",
        "[Robert Eden](https://www.wikidata.org/wiki/Q7343951) | [Sir Frederick Eden, 2nd Baronet](https://www.wikidata.org/wiki/Q7526766) | Correct\n",
        "[Bruce Appleyard](https://www.wikidata.org/wiki/Q23664130) | [Donald Appleyard](https://www.wikidata.org/wiki/Q5293973) | Correct\n",
        "[Ric Throssell](https://www.wikidata.org/wiki/Q16014526) | [Hugo Throssell](https://www.wikidata.org/wiki/Q12070994), [Katharine Susannah Prichard](https://www.wikidata.org/wiki/Q454686) | Correct\n",
        "[Ian Cundy](https://www.wikidata.org/wiki/Q1655490) | [Martyn Cundy](https://www.wikidata.org/wiki/Q6777618) | Correct\n"
      ]
    },
    {
      "cell_type": "markdown",
      "metadata": {
        "id": "PkvPzKhXBcZP",
        "colab_type": "text"
      },
      "source": [
        "### Accuracy of the Russian chapter\n",
        "Disagreements in Russian:"
      ]
    },
    {
      "cell_type": "code",
      "metadata": {
        "id": "n92JD_FyBloV",
        "colab_type": "code",
        "outputId": "6bfd8d1b-7f00-4a1d-c25e-83d2cd139dd7",
        "colab": {
          "base_uri": "https://localhost:8080/",
          "height": 241
        }
      },
      "source": [
        "print_disagreements(dbparent['ru'], wdparent, 10)"
      ],
      "execution_count": 25,
      "outputs": [
        {
          "output_type": "stream",
          "text": [
            "Child | This | That | Assessment\n",
            "--|--|--|--\n",
            "[John Francis Desideratus, Prince of Nassau-Siegen](https://www.wikidata.org/wiki/Q875700) | [tench](https://www.wikidata.org/wiki/Q76280) | [Ernestine Yolande de Ligne d'Amblise](https://www.wikidata.org/wiki/Q1356639) |\n",
            "[Petroc Baladrddellt](https://www.wikidata.org/wiki/Q3901072) | [Clemen](https://www.wikidata.org/wiki/Q5014824) | [Clemen](https://www.wikidata.org/wiki/Q3680424) |\n",
            "[Q3920458](https://www.wikidata.org/wiki/Q3920458) | [Fyodor of Novosil](https://www.wikidata.org/wiki/Q4493873) | [Q4195546](https://www.wikidata.org/wiki/Q4195546) |\n",
            "[Paweł Sapieha](https://www.wikidata.org/wiki/Q11814390) | [Sanguszko](https://www.wikidata.org/wiki/Q676677) | [Jadwiga Sanguszkówna](https://www.wikidata.org/wiki/Q17061582) |\n",
            "[Manuchar I Dadiani](https://www.wikidata.org/wiki/Q9027249) | [Mamia IV Dadiani](https://www.wikidata.org/wiki/Q4154010) | [Levan I Dadiani](https://www.wikidata.org/wiki/Q4154006) |\n",
            "[Nostradamus](https://www.wikidata.org/wiki/Q39978) | [notary](https://www.wikidata.org/wiki/Q189010) | [Jaume de Nostredame](https://www.wikidata.org/wiki/Q11310901) |\n",
            "[Adam Ludwik Czartoryski](https://www.wikidata.org/wiki/Q2823978) | [knyaz](https://www.wikidata.org/wiki/Q273613) | [Władysław Czartoryski](https://www.wikidata.org/wiki/Q696036), [Princess Marguerite Adélaïde of Orléans](https://www.wikidata.org/wiki/Q2192425) |\n",
            "[Prince Karl Emich of Leiningen](https://www.wikidata.org/wiki/Q7244117) | [House of Oldenburg](https://www.wikidata.org/wiki/Q155594), [House of Leiningen](https://www.wikidata.org/wiki/Q668414) | [Emich Kyrill, Prince of Leiningen](https://www.wikidata.org/wiki/Q5371081), [Eilika Stephanie Elisabeth Thekla Juliana](https://www.wikidata.org/wiki/Q16698801) |\n",
            "[Henry V of Carinthia](https://www.wikidata.org/wiki/Q551463) | [House of Zähringen](https://www.wikidata.org/wiki/Q247331) | [Judith of Baden](https://www.wikidata.org/wiki/Q123846) |\n",
            "[Stanisław Jerzy Ogiński](https://www.wikidata.org/wiki/Q607941) | [Brzostowski](https://www.wikidata.org/wiki/Q3919092) | [Q28839390](https://www.wikidata.org/wiki/Q28839390) |\n"
          ],
          "name": "stdout"
        }
      ]
    },
    {
      "cell_type": "markdown",
      "metadata": {
        "id": "awToOZSHB5oi",
        "colab_type": "text"
      },
      "source": [
        "Child | ru.DBpedia | Wikidata | Assessment\n",
        "--|--|--|--\n",
        "[Brody Jenner](https://www.wikidata.org/wiki/Q554091) | [David Foster](https://www.wikidata.org/wiki/Q77112) | [Caitlyn Jenner](https://www.wikidata.org/wiki/Q365144) | Foster is stepfather, Jenner biological\n",
        "[Cimon](https://www.wikidata.org/wiki/Q218102) | [Thrace](https://www.wikidata.org/wiki/Q41741) | [Hegesipyle](https://www.wikidata.org/wiki/Q9002378) | Wikidata is correct\n",
        "[Q3920458](https://www.wikidata.org/wiki/Q3920458) | [Fyodor of Novosil](https://www.wikidata.org/wiki/Q4493873) | [Q4195546](https://www.wikidata.org/wiki/Q4195546) | Wikidata is correct\n",
        "[Pëtr Alekseevič Golicyn](https://www.wikidata.org/wiki/Q4141581) | [boyar](https://www.wikidata.org/wiki/Q203563), [Khilkov](https://www.wikidata.org/wiki/Q4497581) | [Aleksej Andreevič Golicyn](https://www.wikidata.org/wiki/Q15065410), [Q61197668](https://www.wikidata.org/wiki/Q61197668) | Wikidata is correct\n",
        "[Shaka Zulu](https://www.wikidata.org/wiki/Q27695) | [Q15696420](https://www.wikidata.org/wiki/Q15696420) | [Senzangakhona kaJama](https://www.wikidata.org/wiki/Q2918639), [Nandi](https://www.wikidata.org/wiki/Q6963230) | Wikidata should merge the two entities\n",
        "[Boris III of Bulgaria](https://www.wikidata.org/wiki/Q159585) | [Ferdinand I of Bulgaria](https://www.wikidata.org/wiki/Q151667) | [Ferdinand I of Bulgaria](https://www.wikidata.org/wiki/Q55032081), [Princess Marie Louise of Bourbon-Parma](https://www.wikidata.org/wiki/Q235823) | redirect, both correct, Wikidata has mother too\n",
        "[Q4076112](https://www.wikidata.org/wiki/Q4076112) | [Tatischev family](https://www.wikidata.org/wiki/Q4452623) | [Q54196411](https://www.wikidata.org/wiki/Q54196411) | Wikidata is correct\n",
        "[Lev Aleksandrovič Naryškin](https://www.wikidata.org/wiki/Q4313560) | [House of Apraksin](https://www.wikidata.org/wiki/Q2029158) | [Aleksandr Naryshkin](https://www.wikidata.org/wiki/Q4313553) | Wikidata is correct\n",
        "[Lucullus](https://www.wikidata.org/wiki/Q242819) | [Lucius Licinius Lucullus](https://www.wikidata.org/wiki/Q691847) | [Lucius Licinius Lucullus](https://www.wikidata.org/wiki/Q3655306), [Caecilia Metella Calva](https://www.wikidata.org/wiki/Q461531) | Wikidata is correct\n",
        "[Jerzy Albrecht Denhoff](https://www.wikidata.org/wiki/Q1232571) | [Ossoliński](https://www.wikidata.org/wiki/Q827790) | [Teresa Anna Ossolińska](https://www.wikidata.org/wiki/Q37330697) | Wikidata is correct"
      ]
    },
    {
      "cell_type": "markdown",
      "metadata": {
        "id": "Dz-dQ9JhGsFN",
        "colab_type": "text"
      },
      "source": [
        "### Accuracy of the Italian chapter\n",
        "\n",
        "Disagreements and gaps from the Italian chapter are being sampled in the following two tables.\n",
        "\n",
        "It is noticeable that all the data is about fictional characters. There is probably a mapping error, where all kind of family relationships of fictional characters are being mapped to the parent relationship in the DBpedia ontology."
      ]
    },
    {
      "cell_type": "code",
      "metadata": {
        "id": "gBJhWMZhGy52",
        "colab_type": "code",
        "outputId": "c04fc246-0bfa-4abe-de8d-e669cde37b1f",
        "colab": {
          "base_uri": "https://localhost:8080/",
          "height": 241
        }
      },
      "source": [
        "print_disagreements(dbparent['it'], wdparent, 10)"
      ],
      "execution_count": 26,
      "outputs": [
        {
          "output_type": "stream",
          "text": [
            "Child | This | That | Assessment\n",
            "--|--|--|--\n",
            "[Supergirl](https://www.wikidata.org/wiki/Q3622567) | [Superman](https://www.wikidata.org/wiki/Q79015) | [Superman (Earth-One)](https://www.wikidata.org/wiki/Q7643821), [Supergirl](https://www.wikidata.org/wiki/Q3832603) |\n",
            "[Alex Karev](https://www.wikidata.org/wiki/Q2483201) | [Addison Montgomery](https://www.wikidata.org/wiki/Q2349069), [Lexie Grey](https://www.wikidata.org/wiki/Q2467529), [list of Grey's Anatomy characters](https://www.wikidata.org/wiki/Q2593873) | [Jimmy Evans](https://www.wikidata.org/wiki/Q51928552), [Helen Karev](https://www.wikidata.org/wiki/Q51928544) |\n",
            "[Eurypylus](https://www.wikidata.org/wiki/Q120831) | [Heracles](https://www.wikidata.org/wiki/Q122248), [Grynus](https://www.wikidata.org/wiki/Q15980401), [Priam](https://www.wikidata.org/wiki/Q170473), [Axioche](https://www.wikidata.org/wiki/Q931321) | [Astyoche](https://www.wikidata.org/wiki/Q990991) |\n",
            "[Applejack](https://www.wikidata.org/wiki/Q7468973) | [Granny Smith](https://www.wikidata.org/wiki/Q506040) | [Bright Mac](https://www.wikidata.org/wiki/Q42320676), [Pear Butter](https://www.wikidata.org/wiki/Q42320680) |\n",
            "[Antenor](https://www.wikidata.org/wiki/Q571969) | [Coön](https://www.wikidata.org/wiki/Q1173681), [Archelochus](https://www.wikidata.org/wiki/Q1330702), [Acamas](https://www.wikidata.org/wiki/Q1782641), [Iphidamas](https://www.wikidata.org/wiki/Q2497780), [Agenor](https://www.wikidata.org/wiki/Q2547185), [Demoleon](https://www.wikidata.org/wiki/Q3044434), [Polybus](https://www.wikidata.org/wiki/Q3266310), [Echeclus](https://www.wikidata.org/wiki/Q667189), [Laodamas](https://www.wikidata.org/wiki/Q765456) | [Aesyetes](https://www.wikidata.org/wiki/Q4688595) |\n",
            "[Will Turner](https://www.wikidata.org/wiki/Q1764242) | [Elizabeth Swann](https://www.wikidata.org/wiki/Q1623044), [list of Pirates of the Caribbean characters](https://www.wikidata.org/wiki/Q998694) | [Bill Turner](https://www.wikidata.org/wiki/Q2576706) |\n",
            "[Richard Rahl](https://www.wikidata.org/wiki/Q764346) | [Zeddicus Z'ul Zorander](https://www.wikidata.org/wiki/Q1765951), [Kahlan Amnell](https://www.wikidata.org/wiki/Q2556142) | [Darken Rahl](https://www.wikidata.org/wiki/Q1991538) |\n",
            "[Claire Bennet](https://www.wikidata.org/wiki/Q847555) | [Peter Petrelli](https://www.wikidata.org/wiki/Q1050850), [list of Heroes characters](https://www.wikidata.org/wiki/Q1538416), [Arthur Petrelli](https://www.wikidata.org/wiki/Q2865310), [Flint Gordon, Jr.](https://www.wikidata.org/wiki/Q3746616), [Angela Petrelli](https://www.wikidata.org/wiki/Q769340) | [Sandra Bennet](https://www.wikidata.org/wiki/Q6119938) |\n",
            "[Phineus](https://www.wikidata.org/wiki/Q1471454) | [Andromeda](https://www.wikidata.org/wiki/Q102897), [Q1739141](https://www.wikidata.org/wiki/Q1739141), [Danaus](https://www.wikidata.org/wiki/Q210883) | [Achiroe](https://www.wikidata.org/wiki/Q3615214) |\n",
            "[Wilma Flintstone](https://www.wikidata.org/wiki/Q614240) | [Barney Rubble](https://www.wikidata.org/wiki/Q614762), [Betty Rubble](https://www.wikidata.org/wiki/Q614768), [Fred Flintstone](https://www.wikidata.org/wiki/Q614889) | [Pearl Slaghoople](https://www.wikidata.org/wiki/Q7158169) |\n"
          ],
          "name": "stdout"
        }
      ]
    },
    {
      "cell_type": "markdown",
      "metadata": {
        "id": "JA_GaG3lG9HN",
        "colab_type": "text"
      },
      "source": [
        "Child | it.DBpedia | Wikidata | Assessment\n",
        "--|--|--|--\n",
        "[Samantha Carter](https://www.wikidata.org/wiki/Q845525) | [Jacob Carter](https://www.wikidata.org/wiki/Q2252838) | [Jacob Carter](https://www.wikidata.org/wiki/Q1099192) | redirect, both correct\n",
        "[Callie Torres](https://www.wikidata.org/wiki/Q2397174) | [Erica Hahn](https://www.wikidata.org/wiki/Q115876), [George O'Malley](https://www.wikidata.org/wiki/Q2293323), [Mark Sloan](https://www.wikidata.org/wiki/Q2471248), [Arizona Robbins](https://www.wikidata.org/wiki/Q2720503), [Sofia Robbin Sloan Torres](https://www.wikidata.org/wiki/Q3963969) | [Lucia Torres](https://www.wikidata.org/wiki/Q3838481) | Wikidata is correct\n",
        "[Antenor](https://www.wikidata.org/wiki/Q571969) | [Coön](https://www.wikidata.org/wiki/Q1173681), [Archelochus](https://www.wikidata.org/wiki/Q1330702), [Acamas](https://www.wikidata.org/wiki/Q1782641), [Iphidamas](https://www.wikidata.org/wiki/Q2497780), [Agenor](https://www.wikidata.org/wiki/Q2547185), [Demoleon](https://www.wikidata.org/wiki/Q3044434), [Polybus](https://www.wikidata.org/wiki/Q3266310), [Echeclus](https://www.wikidata.org/wiki/Q667189), [Laodamas](https://www.wikidata.org/wiki/Q765456) | [Aesyetes](https://www.wikidata.org/wiki/Q4688595) | Wikidata is correct\n",
        "[Barry Allen](https://www.wikidata.org/wiki/Q2258938) | [XS](https://www.wikidata.org/wiki/Q208986), [Iris West](https://www.wikidata.org/wiki/Q3802004), [Wally West](https://www.wikidata.org/wiki/Q611576) | [Henry Allen](https://www.wikidata.org/wiki/Q54669934), [Nora Allen](https://www.wikidata.org/wiki/Q54669997) | Wikidata is correct\n",
        "[Hercules](https://www.wikidata.org/wiki/Q534889) | [Ares](https://www.wikidata.org/wiki/Q1277573), [Athena](https://www.wikidata.org/wiki/Q37122), [Hades](https://www.wikidata.org/wiki/Q41410), [Jupiter](https://www.wikidata.org/wiki/Q4649) | [Zeus](https://www.wikidata.org/wiki/Q3575329) | Wikidata is correct\n",
        "[Gilraen](https://www.wikidata.org/wiki/Q2487902) | [Aragorn](https://www.wikidata.org/wiki/Q180322) | [Dírhael](https://www.wikidata.org/wiki/Q6036812), [Ivorwen](https://www.wikidata.org/wiki/Q6018469) | Wikidata is correct\n",
        "[Invisible Woman](https://www.wikidata.org/wiki/Q510450) | [Franklin Richards](https://www.wikidata.org/wiki/Q2624716), [Human Torch](https://www.wikidata.org/wiki/Q584585), [Valeria Richards](https://www.wikidata.org/wiki/Q734861), [Mister Fantastic](https://www.wikidata.org/wiki/Q865017) | [Franklin Storm](https://www.wikidata.org/wiki/Q20858389) | Wikidata is correct\n",
        "[Julian Sark](https://www.wikidata.org/wiki/Q2706542) | [Lauren Reed](https://www.wikidata.org/wiki/Q2601476) | [Andrian Lazarey](https://www.wikidata.org/wiki/Q6270804) | Wikidata is correct\n",
        "[Chani](https://www.wikidata.org/wiki/Q2724142) | [Leto Atreides II](https://www.wikidata.org/wiki/Q304741), [Ghanima Atreides](https://www.wikidata.org/wiki/Q613370), [Paul Atreides](https://www.wikidata.org/wiki/Q939956) | [Liet-Kynes](https://www.wikidata.org/wiki/Q2583490) | Wikidata is correct\n",
        "[Ginny Weasley](https://www.wikidata.org/wiki/Q187923) | [list of supporting Harry Potter characters](https://www.wikidata.org/wiki/Q1213096), [Fred and George Weasley](https://www.wikidata.org/wiki/Q1251049), [Ron Weasley](https://www.wikidata.org/wiki/Q173998), [Harry Potter](https://www.wikidata.org/wiki/Q3244512) | [Arthur Weasley](https://www.wikidata.org/wiki/Q7881262), [Molly Weasley](https://www.wikidata.org/wiki/Q3255012) | Wikidata is correct"
      ]
    },
    {
      "cell_type": "code",
      "metadata": {
        "id": "z7IxOJm5L-ss",
        "colab_type": "code",
        "outputId": "4c3e7588-23f3-4a96-e951-7c7ed858666a",
        "colab": {
          "base_uri": "https://localhost:8080/",
          "height": 241
        }
      },
      "source": [
        "print_wins(dbparent['it'], wdparent, 10)"
      ],
      "execution_count": 27,
      "outputs": [
        {
          "output_type": "stream",
          "text": [
            "Child|Parent|Assessment\n",
            "--|--|--\n",
            "[Mark Sloan](https://www.wikidata.org/wiki/Q2471248) | [Amelia Shepherd](https://www.wikidata.org/wiki/Q116028), [Teddy Altman](https://www.wikidata.org/wiki/Q2221007), [Addison Montgomery](https://www.wikidata.org/wiki/Q2349069), [Callie Torres](https://www.wikidata.org/wiki/Q2397174), [Lexie Grey](https://www.wikidata.org/wiki/Q2467529) |\n",
            "[Mr. Jones](https://www.wikidata.org/wiki/Q3866790) | [Q3876859](https://www.wikidata.org/wiki/Q3876859) |\n",
            "[Q15091253](https://www.wikidata.org/wiki/Q15091253) | [Bree Van de Kamp](https://www.wikidata.org/wiki/Q601836), [Andrew Van de Kamp](https://www.wikidata.org/wiki/Q768434), [Rex Van de Kamp](https://www.wikidata.org/wiki/Q897832), [Danielle Van De Kamp](https://www.wikidata.org/wiki/Q898305) |\n",
            "[Robert de Vaudreuil](https://www.wikidata.org/wiki/Q3938483) | [Q3900186](https://www.wikidata.org/wiki/Q3900186), [Q3961239](https://www.wikidata.org/wiki/Q3961239) |\n",
            "[Two-Face](https://www.wikidata.org/wiki/Q295599) | [The Dark Knight](https://www.wikidata.org/wiki/Q163872), [Rachel Dawes](https://www.wikidata.org/wiki/Q2567497), [Poison Ivy](https://www.wikidata.org/wiki/Q375671), [Batman: The Animated Series](https://www.wikidata.org/wiki/Q673517) |\n",
            "[Alfred Gronevelt](https://www.wikidata.org/wiki/Q3611286) | [Domenico Clericuzio](https://www.wikidata.org/wiki/Q3712970) |\n",
            "[Lori Grimes](https://www.wikidata.org/wiki/Q114900) | [Carl Grimes](https://www.wikidata.org/wiki/Q5040238), [Rick Grimes](https://www.wikidata.org/wiki/Q605417) |\n",
            "[Q3854061](https://www.wikidata.org/wiki/Q3854061) | [Veronica Cozzani](https://www.wikidata.org/wiki/Q3934994) |\n",
            "[Hercule](https://www.wikidata.org/wiki/Q2294767) | [Chichi](https://www.wikidata.org/wiki/Q1139513), [Pan](https://www.wikidata.org/wiki/Q2265967), [Videl Satan](https://www.wikidata.org/wiki/Q2294744) |\n",
            "[Ryan Atwood](https://www.wikidata.org/wiki/Q2293068) | [Dawn Atwood](https://www.wikidata.org/wiki/Q1856320), [Trey Atwood](https://www.wikidata.org/wiki/Q2318143) |\n"
          ],
          "name": "stdout"
        }
      ]
    },
    {
      "cell_type": "markdown",
      "metadata": {
        "id": "S6uGyk4gMQtJ",
        "colab_type": "text"
      },
      "source": [
        "Child|Parent|Assessment\n",
        "--|--|--\n",
        "[Felicia Forrester](https://www.wikidata.org/wiki/Q3742245) | [Ivy Forrester](https://www.wikidata.org/wiki/Q17338444), [Bridget Forrester](https://www.wikidata.org/wiki/Q1771601), [Q21185441](https://www.wikidata.org/wiki/Q21185441), [Thorne Forrester](https://www.wikidata.org/wiki/Q2490665), [Ridge Forrester](https://www.wikidata.org/wiki/Q2635312), [Pamela Douglas](https://www.wikidata.org/wiki/Q3892871), [Phoebe Forrester](https://www.wikidata.org/wiki/Q3901580), [Steffy Forrester](https://www.wikidata.org/wiki/Q3972810), [Thomas Forrester](https://www.wikidata.org/wiki/Q3990622), [Alexandria Forrester](https://www.wikidata.org/wiki/Q5263183), [Q9301739](https://www.wikidata.org/wiki/Q9301739), [Rick Forrester](https://www.wikidata.org/wiki/Q9303694), [Eric Forrester](https://www.wikidata.org/wiki/Q940467) | Wrong\n",
        "[Q17652127](https://www.wikidata.org/wiki/Q17652127) | [Justin Suarez](https://www.wikidata.org/wiki/Q3190501), [Hilda Suarez](https://www.wikidata.org/wiki/Q3785613) | Wrong\n",
        "[Q25399220](https://www.wikidata.org/wiki/Q25399220) | [Q16577687](https://www.wikidata.org/wiki/Q16577687), [Q21193716](https://www.wikidata.org/wiki/Q21193716), [list of Fairy Tail characters](https://www.wikidata.org/wiki/Q608837) | Entity deleted\n",
        "[Black Bolt](https://www.wikidata.org/wiki/Q767453) | [Crystal](https://www.wikidata.org/wiki/Q2418760), [Gorgon](https://www.wikidata.org/wiki/Q3359399), [Ahura](https://www.wikidata.org/wiki/Q3607026), [Agon](https://www.wikidata.org/wiki/Q395230), [Medusa](https://www.wikidata.org/wiki/Q432272) | Wrong\n",
        "[Gabriel and Sarah Stacy](https://www.wikidata.org/wiki/Q3772700) | [Harry Osborn](https://www.wikidata.org/wiki/Q1779361), [Gwen Stacy](https://www.wikidata.org/wiki/Q945817) | Wrong\n",
        "[Marik Ishtar](https://www.wikidata.org/wiki/Q2543072) | [Ishizu Ishtar](https://www.wikidata.org/wiki/Q1320505) | Wrong\n",
        "[Teresa Lisbon](https://www.wikidata.org/wiki/Q2414597) | [Patrick Jane](https://www.wikidata.org/wiki/Q2498328) | Wrong\n",
        "[Q4023194](https://www.wikidata.org/wiki/Q4023194) | [Q3817852](https://www.wikidata.org/wiki/Q3817852) | Wrong\n",
        "[Gwen](https://www.wikidata.org/wiki/Q3780139) | [Arthur Pendragon](https://www.wikidata.org/wiki/Q3624628), [Uther Pendragon](https://www.wikidata.org/wiki/Q4006762) | Wrong\n",
        "[Ben Horne](https://www.wikidata.org/wiki/Q3638254) | [Audrey Horne](https://www.wikidata.org/wiki/Q1089332), [Donna Hayward](https://www.wikidata.org/wiki/Q1134465), [list of Twin Peaks characters](https://www.wikidata.org/wiki/Q2575638) | Wrong"
      ]
    },
    {
      "cell_type": "markdown",
      "metadata": {
        "id": "m7NTVGXkHR1z",
        "colab_type": "text"
      },
      "source": [
        "### Accuracy of the Japanese chapter\n",
        "\n",
        "Japanese offers a significant number of parent relationships which are not yet in Wikidata.\n"
      ]
    },
    {
      "cell_type": "code",
      "metadata": {
        "id": "B7dr8DDgOLrr",
        "colab_type": "code",
        "outputId": "4d82ed37-6e05-4e8f-8d30-a606b54cf31e",
        "colab": {
          "base_uri": "https://localhost:8080/",
          "height": 221
        }
      },
      "source": [
        "print_wins(dbparent['ja'], wdparent, 10)"
      ],
      "execution_count": 28,
      "outputs": [
        {
          "output_type": "stream",
          "text": [
            "Child|Parent|Assessment\n",
            "--|--|--\n",
            "[Q11549810](https://www.wikidata.org/wiki/Q11549810) | [Matsudaira Chikayoshi](https://www.wikidata.org/wiki/Q11530579) |\n",
            "[Date Munemura](https://www.wikidata.org/wiki/Q5227536) | [Date Yoshimura](https://www.wikidata.org/wiki/Q116151) |\n",
            "[Q8514342](https://www.wikidata.org/wiki/Q8514342) | [Q8514347](https://www.wikidata.org/wiki/Q8514347) |\n",
            "[Matsudaira Nobuzane](https://www.wikidata.org/wiki/Q8515058) | [Matsudaira Nobutsura](https://www.wikidata.org/wiki/Q8515052) |\n",
            "[Asano Nagaakira](https://www.wikidata.org/wiki/Q761596) | [Asano Nagamasa](https://www.wikidata.org/wiki/Q1067546), [Q11653420](https://www.wikidata.org/wiki/Q11653420) |\n",
            "[Q11407947](https://www.wikidata.org/wiki/Q11407947) | [Q11407950](https://www.wikidata.org/wiki/Q11407950) |\n",
            "[Q11061303](https://www.wikidata.org/wiki/Q11061303) | [Taira no Shigemori](https://www.wikidata.org/wiki/Q1184985) |\n",
            "[Shimazu Hisanaga](https://www.wikidata.org/wiki/Q11476794) | [Shimazu Hisamoto](https://www.wikidata.org/wiki/Q11476789) |\n",
            "[Q11354965](https://www.wikidata.org/wiki/Q11354965) | [Miyoshi Yoshikata](https://www.wikidata.org/wiki/Q1058953) |\n",
            "[Itakura Shigemune](https://www.wikidata.org/wiki/Q3155840) | [Itakura Katsushige](https://www.wikidata.org/wiki/Q771609) |\n"
          ],
          "name": "stdout"
        }
      ]
    },
    {
      "cell_type": "markdown",
      "metadata": {
        "id": "f5lGSemqOptZ",
        "colab_type": "text"
      },
      "source": [
        "Child|Parent|Assessment\n",
        "--|--|--\n",
        "[Oda Nobunao](https://www.wikidata.org/wiki/Q11608321) | [Oda Nobuharu](https://www.wikidata.org/wiki/Q11608289) | Correct\n",
        "[Nabeshima Naotsune](https://www.wikidata.org/wiki/Q6956829) | [Nabeshima Naonori](https://www.wikidata.org/wiki/Q6956821) | Correct\n",
        "[Q10856429](https://www.wikidata.org/wiki/Q10856429) | [Q11237935](https://www.wikidata.org/wiki/Q11237935) | Correct\n",
        "[Q11379524](https://www.wikidata.org/wiki/Q11379524) | [Itō Sukeyoshi](https://www.wikidata.org/wiki/Q8514856) | Correct\n",
        "[Rokkaku Yoshinobu](https://www.wikidata.org/wiki/Q11392552) | [Rokkaku Ujiyori](https://www.wikidata.org/wiki/Q11392545) | Correct\n",
        "[Q11429187](https://www.wikidata.org/wiki/Q11429187) | [Q11429192](https://www.wikidata.org/wiki/Q11429192) | Correct\n",
        "[Ikeda Mitsumasa](https://www.wikidata.org/wiki/Q3148401) | [Ikeda Yoshitaka](https://www.wikidata.org/wiki/Q11551736) | Correct\n",
        "[Kawakatsu Hironaga](https://www.wikidata.org/wiki/Q11366219) | [Kawakatsu Hirokatsu](https://www.wikidata.org/wiki/Q11366088) | Wrong (?)\n",
        "[Matsudaira Katsumasa](https://www.wikidata.org/wiki/Q10565593) | [Mizuno Tadawake](https://www.wikidata.org/wiki/Q10565616) | Correct\n",
        "[Q11397461](https://www.wikidata.org/wiki/Q11397461) | [Q11397448](https://www.wikidata.org/wiki/Q11397448) | Correct"
      ]
    },
    {
      "cell_type": "markdown",
      "metadata": {
        "id": "HgM6CraFSDIz",
        "colab_type": "text"
      },
      "source": [
        "## DBpedia Fusion and Wikidata\n",
        "\n",
        "In the following we compare the DBpedia Fusion dataset with Wikidata. We sample 20 of the disagreements, and 10 of the gaps suggested by DBpedia."
      ]
    },
    {
      "cell_type": "code",
      "metadata": {
        "id": "77tmmY0PSRBa",
        "colab_type": "code",
        "outputId": "806fd10e-0b8c-4c0c-96f8-765cdda65caf",
        "colab": {
          "base_uri": "https://localhost:8080/",
          "height": 411
        }
      },
      "source": [
        "print_disagreements(fuseparent, wdparent, 20)"
      ],
      "execution_count": 29,
      "outputs": [
        {
          "output_type": "stream",
          "text": [
            "Child | This | That | Assessment\n",
            "--|--|--|--\n",
            "[Merope](https://www.wikidata.org/wiki/Q917417) | [Helike](https://www.wikidata.org/wiki/Q12094612) | [Oenopion](https://www.wikidata.org/wiki/Q937216) |\n",
            "[Gagik Abu Morvan Artsruni](https://www.wikidata.org/wiki/Q13409087) | [Ashot I of Armenia](https://www.wikidata.org/wiki/Q463419) | [Vahan Artsruni](https://www.wikidata.org/wiki/Q13411551), [unnamed Bagratuni](https://www.wikidata.org/wiki/Q13411554) |\n",
            "[Publius Claudius Pulcher](https://www.wikidata.org/wiki/Q435404) | [Appius Claudius Caecus](https://www.wikidata.org/wiki/Q297783) | [Gaius Claudius Centho](https://www.wikidata.org/wiki/Q155312) |\n",
            "[Friedrich Ernst Sachsen-Altenburg](https://www.wikidata.org/wiki/Q15455100) | [Princess Adelaide of Schaumburg-Lippe](https://www.wikidata.org/wiki/Q2109745) | [Ernst II, Duke of Saxe-Altenburg](https://www.wikidata.org/wiki/Q61787) |\n",
            "[Lucius Julius Caesar](https://www.wikidata.org/wiki/Q465074) | [Lucius Julius Caesar](https://www.wikidata.org/wiki/Q515204) | [Lúcio Júlio César](https://www.wikidata.org/wiki/Q888672) |\n",
            "[Osulf I of Bamburgh](https://www.wikidata.org/wiki/Q3357482) | [Eadwulf II of Northumbria](https://www.wikidata.org/wiki/Q3046328) | [Ealdred of Northumbria](https://www.wikidata.org/wiki/Q931900) |\n",
            "[Enheduanna](https://www.wikidata.org/wiki/Q232505) | [Akkad](https://www.wikidata.org/wiki/Q150996) | [Sargon of Akkad](https://www.wikidata.org/wiki/Q199461), [Tashlultum](https://www.wikidata.org/wiki/Q543989) |\n",
            "[Gangjong of Goryeo](https://www.wikidata.org/wiki/Q704280) | [Myeongjong of Joseon](https://www.wikidata.org/wiki/Q483641) | [Myeongjong](https://www.wikidata.org/wiki/Q493913), [Uijeong-wanghu](https://www.wikidata.org/wiki/Q11668163) |\n",
            "[Q43418302](https://www.wikidata.org/wiki/Q43418302) | [Q11718523](https://www.wikidata.org/wiki/Q11718523) | [Ludwik Jan Nepomucen Sułkowski](https://www.wikidata.org/wiki/Q41017719), [Q56661269](https://www.wikidata.org/wiki/Q56661269) |\n",
            "[Andrew Ignatius Oginski](https://www.wikidata.org/wiki/Q3647410) | [House of Radziwiłł](https://www.wikidata.org/wiki/Q260388) | [Tadas Francis Oginski](https://www.wikidata.org/wiki/Q2628160), [Q62910393](https://www.wikidata.org/wiki/Q62910393) |\n",
            "[Amaziah of Judah](https://www.wikidata.org/wiki/Q313237) | [Jerusalem](https://www.wikidata.org/wiki/Q1218) | [Jehoash of Judah](https://www.wikidata.org/wiki/Q313229) |\n",
            "[Alexander, Margrave of Meissen](https://www.wikidata.org/wiki/Q2731045) | [Assaf dynasty](https://www.wikidata.org/wiki/Q22948965) | [Princess Anna of Saxony](https://www.wikidata.org/wiki/Q6473571) |\n",
            "[Jeremiah](https://www.wikidata.org/wiki/Q158825) | [Hilkiah](https://www.wikidata.org/wiki/Q3276278) | [Hilkiah](https://www.wikidata.org/wiki/Q25796501) |\n",
            "[Q26878179](https://www.wikidata.org/wiki/Q26878179) | [Holstein-Pinneberg](https://www.wikidata.org/wiki/Q883469) | [Q26205746](https://www.wikidata.org/wiki/Q26205746) |\n",
            "[Q11650705](https://www.wikidata.org/wiki/Q11650705) | [Q18234864](https://www.wikidata.org/wiki/Q18234864) | [Ishii Nobutada](https://www.wikidata.org/wiki/Q11584866) |\n",
            "[Uroš I of Rascia](https://www.wikidata.org/wiki/Q2142592) | [Vukan of Rascia](https://www.wikidata.org/wiki/Q1359954) | [Marko Vojislavljević](https://www.wikidata.org/wiki/Q17401793) |\n",
            "[Lady Kinvara Balfour](https://www.wikidata.org/wiki/Q6470302) | [Earl of Balfour](https://www.wikidata.org/wiki/Q1277216) | [Roderick Balfour, 5th Earl of Balfour](https://www.wikidata.org/wiki/Q23303511), [Tessa Balfour, Countess of Balfour](https://www.wikidata.org/wiki/Q23303514) |\n",
            "[Konrad III. von Nürnberg](https://www.wikidata.org/wiki/Q31191922) | [Carinthia](https://www.wikidata.org/wiki/Q37985) | [Frederick IV](https://www.wikidata.org/wiki/Q64084) |\n",
            "[Q44191605](https://www.wikidata.org/wiki/Q44191605) | [County of Eberstein](https://www.wikidata.org/wiki/Q315818) | [Q44191570](https://www.wikidata.org/wiki/Q44191570) |\n",
            "[Rivallo, Count of Penthièvre](https://www.wikidata.org/wiki/Q2071620) | [Stephen, Count of Tréguier](https://www.wikidata.org/wiki/Q2670176) | [Geoffrey II, Count of Penthièvre](https://www.wikidata.org/wiki/Q2071583) |\n"
          ],
          "name": "stdout"
        }
      ]
    },
    {
      "cell_type": "markdown",
      "metadata": {
        "id": "9YmNK25yQyk0",
        "colab_type": "text"
      },
      "source": [
        "Child | DBpedia | Wikidata | Assessment\n",
        "--|--|--|--\n",
        "[Arnold I, Count of Cleves](https://www.wikidata.org/wiki/Q90976) | [Rutger II, Count of Cleves](https://www.wikidata.org/wiki/Q2177549) | [Dietrich I, Count of Cleves](https://www.wikidata.org/wiki/Q832575) | Wikidata is correct\n",
        "[Q17552458](https://www.wikidata.org/wiki/Q17552458) | [Grabowski family](https://www.wikidata.org/wiki/Q4147294) | [Q13028484](https://www.wikidata.org/wiki/Q13028484) | Wikidata correct, DBpedia error would be caught by range check\n",
        "[Al-Walid I](https://www.wikidata.org/wiki/Q284003) | [Banu Ghatafan](https://www.wikidata.org/wiki/Q807005) | [Abd al-Malik ibn Marwan](https://www.wikidata.org/wiki/Q36788) | Wikidata correct, DBpedia error would be caught by range check\n",
        "[Benerib](https://www.wikidata.org/wiki/Q181597) | [Narmer](https://www.wikidata.org/wiki/Q189582) | [Neithhotep](https://www.wikidata.org/wiki/Q255585) | Complicated, possible that both are correct\n",
        "[Faisal bin Turki](https://www.wikidata.org/wiki/Q889847) | [Surma people](https://www.wikidata.org/wiki/Q1752805) | [Turki bin Said, Sultan of Muscat and Oman](https://www.wikidata.org/wiki/Q580930) | Wikidata correct, DBpedia error would be caught by range check\n",
        "[Gausbert](https://www.wikidata.org/wiki/Q1253076) | [Ermengarda d'Empúries](https://www.wikidata.org/wiki/Q4532539) | [Sunyer II, Count of Empúries](https://www.wikidata.org/wiki/Q420535) | Wikidata is correct\n",
        "[Alois Friedrich von Brühl](https://www.wikidata.org/wiki/Q214283) | [Kolowrat](https://www.wikidata.org/wiki/Q874862) | [Heinrich von Brühl](https://www.wikidata.org/wiki/Q214949) | Wikidata correct, DBpedia error would be caught by range check\n",
        "[Franciszek Stefan Sapieha](https://www.wikidata.org/wiki/Q3918234) | [Q4232311](https://www.wikidata.org/wiki/Q4232311) | [Paweł Jan Sapieha](https://www.wikidata.org/wiki/Q2991218) | Wikidata correct, DBpedia error would be caught by range check\n",
        "[Henry Wellesley, 3rd Duke of Wellington](https://www.wikidata.org/wiki/Q334429) | [lord](https://www.wikidata.org/wiki/Q332209) | [Lord Charles Wellesley](https://www.wikidata.org/wiki/Q334151) | Wikidata correct, DBpedia error would be caught by range check\n",
        "[Louise Weiss](https://www.wikidata.org/wiki/Q274163) | [Javal family](https://www.wikidata.org/wiki/Q920729) | [Paul Louis Weiss](https://www.wikidata.org/wiki/Q3371722), [Jeanne Javal](https://www.wikidata.org/wiki/Q60196111) | Wikidata correct, DBpedia error would be caught by range check\n",
        "[Edward Poniński](https://www.wikidata.org/wiki/Q16543004) | [House of Sierakowski](https://www.wikidata.org/wiki/Q4416555) | [Stanisław Poniński](https://www.wikidata.org/wiki/Q16606148) | Wikidata correct, DBpedia error would be caught by range check\n",
        "[Ahmose-Henutemipet](https://www.wikidata.org/wiki/Q552473) | [Ahhotep I](https://www.wikidata.org/wiki/Q239678) | [Seqenenre Tao](https://www.wikidata.org/wiki/Q31526) | Both correct\n",
        "[Margaret of Híjar](https://www.wikidata.org/wiki/Q52144739) | [Híjar](https://www.wikidata.org/wiki/Q1228427) | [Joan I Ferrandis d'Híxar i de Centelles](https://www.wikidata.org/wiki/Q11927762) | Wikidata correct, DBpedia error would be caught by range check\n",
        "[Rotrou I, Viscount of Châteaudun](https://www.wikidata.org/wiki/Q24970780) | [Geoffrey II, Viscount of Châteaudun](https://www.wikidata.org/wiki/Q24970779) | [Geoffrey I, Count of Perche](https://www.wikidata.org/wiki/Q2480295) | Wikipedias are split (possibly reconciliation issues)\n",
        "[Q21102594](https://www.wikidata.org/wiki/Q21102594) | [Andrea von Habsburg](https://www.wikidata.org/wiki/Q3434236) | [Q21102641](https://www.wikidata.org/wiki/Q21102641) | Both correct\n",
        "[Stephen Tennant](https://www.wikidata.org/wiki/Q7610665) | [Pamela Wyndham](https://www.wikidata.org/wiki/Q47471521) | [Edward Tennant, 1st Baron Glenconner](https://www.wikidata.org/wiki/Q5345573) | Both correct\n",
        "[Michael Shishman of Bulgaria](https://www.wikidata.org/wiki/Q453491) | [Grand Župan](https://www.wikidata.org/wiki/Q1570380) | [Shishman of Vidin](https://www.wikidata.org/wiki/Q3543962) | Wikidata correct, DBpedia error would be caught by range check\n",
        "[Queen Paola of Belgium](https://www.wikidata.org/wiki/Q31129) | [count](https://www.wikidata.org/wiki/Q3519259) | [Fulco Ruffo di Calabria](https://www.wikidata.org/wiki/Q916842), [Luisa Gazelli dei conti di Rossana](https://www.wikidata.org/wiki/Q2796565) | Wikidata correct, DBpedia error would be caught by range check\n",
        "[Lis Verhoeven](https://www.wikidata.org/wiki/Q73737) | [Doris Kiesow](https://www.wikidata.org/wiki/Q5813556) | [Paul Verhoeven](https://www.wikidata.org/wiki/Q72302) | Both correct\n",
        "[Gottfried von Arnsberg](https://www.wikidata.org/wiki/Q111209) | [Duchy of Jülich](https://www.wikidata.org/wiki/Q836937) | [Ludwig](https://www.wikidata.org/wiki/Q1874126) | Wikidata correct, DBpedia error would be caught by range check"
      ]
    },
    {
      "cell_type": "code",
      "metadata": {
        "id": "YtT_SMg8RAdR",
        "colab_type": "code",
        "outputId": "811934da-a11d-4bd9-a818-1be00a82278f",
        "colab": {
          "base_uri": "https://localhost:8080/",
          "height": 221
        }
      },
      "source": [
        "print_wins(fuseparent, wdparent, 10)"
      ],
      "execution_count": 30,
      "outputs": [
        {
          "output_type": "stream",
          "text": [
            "Child|Parent|Assessment\n",
            "--|--|--\n",
            "[Rudy Soedjarwo](https://www.wikidata.org/wiki/Q3136157) | [Anton Soedjarwo](https://www.wikidata.org/wiki/Q14325367) |\n",
            "[Sakina Banu Begum](https://www.wikidata.org/wiki/Q56064511) | [Humayun](https://www.wikidata.org/wiki/Q486188) |\n",
            "[Gungunum](https://www.wikidata.org/wiki/Q1276049) | [Samium](https://www.wikidata.org/wiki/Q1291332) |\n",
            "[Paul Robinson](https://www.wikidata.org/wiki/Q7153280) | [Jim Robinson](https://www.wikidata.org/wiki/Q6197796) |\n",
            "[Q8514785](https://www.wikidata.org/wiki/Q8514785) | [Tokugawa Mitsusada](https://www.wikidata.org/wiki/Q1046230) |\n",
            "[Lara Aragón](https://www.wikidata.org/wiki/Q22059279) | [Gabriel Aragón](https://www.wikidata.org/wiki/Q3650049) |\n",
            "[Sunny Sanwar](https://www.wikidata.org/wiki/Q7640722) | [Kamrun Nahar](https://www.wikidata.org/wiki/Q6359670) |\n",
            "[Rebecca Alsberg](https://www.wikidata.org/wiki/Q16946213) | [Sven Alfons](https://www.wikidata.org/wiki/Q1814834) |\n",
            "[Q11539646](https://www.wikidata.org/wiki/Q11539646) | [Q11539648](https://www.wikidata.org/wiki/Q11539648) |\n",
            "[Naitō Nobuteru](https://www.wikidata.org/wiki/Q8513870) | [Naitō Nobumasa](https://www.wikidata.org/wiki/Q11394459) |\n"
          ],
          "name": "stdout"
        }
      ]
    },
    {
      "cell_type": "markdown",
      "metadata": {
        "id": "MvCeTCF9RGxJ",
        "colab_type": "text"
      },
      "source": [
        "Child|Parent|Assessment\n",
        "--|--|--\n",
        "[Q38278541](https://www.wikidata.org/wiki/Q38278541) | [Q38278539](https://www.wikidata.org/wiki/Q38278539) | Correct\n",
        "[Alhanadeva](https://www.wikidata.org/wiki/Q27958632) | [Asharaja](https://www.wikidata.org/wiki/Q27958628) | Correct\n",
        "[Myrna Bustani](https://www.wikidata.org/wiki/Q33076428) | [Emile Bustani](https://www.wikidata.org/wiki/Q19664096) | Correct\n",
        "[Alexander Obolensky](https://www.wikidata.org/wiki/Q2314755) | [Obolensky](https://www.wikidata.org/wiki/Q2012879) | Wrong, range check would capture that\n",
        "[Hannah Ashworth](https://www.wikidata.org/wiki/Q5648782) | [Suzanne Ashworth](https://www.wikidata.org/wiki/Q16821909) | Correct\n",
        "[list of Coronation Street characters (2006)](https://www.wikidata.org/wiki/Q6567934) | [Charlie Stubbs](https://www.wikidata.org/wiki/Q22087053) | Wrong,  domain check would capture that\n",
        "[Agus Gumiwang Kartasasmita](https://www.wikidata.org/wiki/Q12470931) | [Ginandjar Kartasasmita](https://www.wikidata.org/wiki/Q5562954) | Correct\n",
        "[Louis de Saint-Gelais](https://www.wikidata.org/wiki/Q16661360) | [Francis I of France](https://www.wikidata.org/wiki/Q129857) | Correct\n",
        "[Jamie Patricof](https://www.wikidata.org/wiki/Q6147342) | [Alan Patricof](https://www.wikidata.org/wiki/Q4707493) | Correct\n",
        "[Adam Sieff](https://www.wikidata.org/wiki/Q4679785) | [Joseph Sieff](https://www.wikidata.org/wiki/Q6286989) | Correct\n"
      ]
    },
    {
      "cell_type": "markdown",
      "metadata": {
        "id": "wf9JtyLPkavI",
        "colab_type": "text"
      },
      "source": [
        "## Freebase and Wikidata\n",
        "\n",
        "Here we compare Freebase and Wikidata."
      ]
    },
    {
      "cell_type": "code",
      "metadata": {
        "id": "9U4gwAIokenC",
        "colab_type": "code",
        "outputId": "f4fef601-30b2-44ec-ee4a-4cb8d10641af",
        "colab": {
          "base_uri": "https://localhost:8080/",
          "height": 221
        }
      },
      "source": [
        "print_disagreements(fbparent, wdparent, 10)"
      ],
      "execution_count": 31,
      "outputs": [
        {
          "output_type": "stream",
          "text": [
            "Child | This | That | Assessment\n",
            "--|--|--|--\n",
            "[Robert I, Duke of Bar](https://www.wikidata.org/wiki/Q570573) | [Yolanda of Flanders](https://www.wikidata.org/wiki/Q232147) | [Yolande of Dampierre](https://www.wikidata.org/wiki/Q2348861) |\n",
            "[Axayacatl](https://www.wikidata.org/wiki/Q351751) | [Atotoztli II](https://www.wikidata.org/wiki/Q2869609), [Tezozomoc](https://www.wikidata.org/wiki/Q3985399) | [Tezozomoc](https://www.wikidata.org/wiki/Q778550) |\n",
            "[Mark of Cornwall](https://www.wikidata.org/wiki/Q1462742) | [Merion](https://www.wikidata.org/wiki/Q3915023) | [Merion](https://www.wikidata.org/wiki/Q3855161) |\n",
            "[Empress Wu](https://www.wikidata.org/wiki/Q5374620) | [Wu Jin](https://www.wikidata.org/wiki/Q8038923) | [Wu Jin](https://www.wikidata.org/wiki/Q45386953) |\n",
            "[Saileuthai](https://www.wikidata.org/wiki/Q6581481) | [Luethai](https://www.wikidata.org/wiki/Q3510554) | [Lithai](https://www.wikidata.org/wiki/Q889077) |\n",
            "[Ezzelino III da Romano](https://www.wikidata.org/wiki/Q787178) | [Ezzelino II da Romano](https://www.wikidata.org/wiki/Q3736448) | [Ezzelino II da Romano](https://www.wikidata.org/wiki/Q3062880) |\n",
            "[Nakayama Yoshiko](https://www.wikidata.org/wiki/Q463940) | [Matsura Seizan](https://www.wikidata.org/wiki/Q6788220) | [Nakayama Aiko](https://www.wikidata.org/wiki/Q11364178) |\n",
            "[Marc Porel](https://www.wikidata.org/wiki/Q327767) | [Gérard Landry](https://www.wikidata.org/wiki/Q3124071) | [Paul Porel](https://www.wikidata.org/wiki/Q3372026), [Jacqueline Porel](https://www.wikidata.org/wiki/Q3157785) |\n",
            "[Raghunathrao](https://www.wikidata.org/wiki/Q7283047) | [Baji Rao I](https://www.wikidata.org/wiki/Q3629894) | [Baji Rao I](https://www.wikidata.org/wiki/Q2514706) |\n",
            "[Sahure](https://www.wikidata.org/wiki/Q243692) | [Neferhetepes](https://www.wikidata.org/wiki/Q299445), [Userkaf](https://www.wikidata.org/wiki/Q268614) | [Khentkaus I](https://www.wikidata.org/wiki/Q268610) |\n"
          ],
          "name": "stdout"
        }
      ]
    },
    {
      "cell_type": "markdown",
      "metadata": {
        "id": "5jHDvUQ8RhVg",
        "colab_type": "text"
      },
      "source": [
        "Child | Freebase | Wikidata | Assessment\n",
        "--|--|--|--\n",
        "[Adelolf, Count of Boulogne](https://www.wikidata.org/wiki/Q348293) | [Ælfthryth, Countess of Flanders](https://www.wikidata.org/wiki/Q1913845) | [Ælfthryth, Countess of Flanders](https://www.wikidata.org/wiki/Q1470395) | redirect, both correct\n",
        "[Corazon Aquino](https://www.wikidata.org/wiki/Q1480) | [José Cojuangco](https://www.wikidata.org/wiki/Q4819150) | [José Cojuangco](https://www.wikidata.org/wiki/Q2447682) | redirect, both correct\n",
        "[Amatokos II](https://www.wikidata.org/wiki/Q4740619) | [Amadocus I](https://www.wikidata.org/wiki/Q610906) | [Cotys I](https://www.wikidata.org/wiki/Q1263290) | Wikidata is correct\n",
        "[Lydus](https://www.wikidata.org/wiki/Q887785) | [Atys](https://www.wikidata.org/wiki/Q4818910) | [Atys](https://www.wikidata.org/wiki/Q3628093) | redirect, both correct\n",
        "[Mikołaj Sieniawski](https://www.wikidata.org/wiki/Q2067045) | [Adam Hieronim Sieniawski](https://www.wikidata.org/wiki/Q11684303) | [Q16714082](https://www.wikidata.org/wiki/Q16714082) | Wikidata is correct\n",
        "[Helen of Znojmo](https://www.wikidata.org/wiki/Q2128810) | [Rostislav I of Kiev](https://www.wikidata.org/wiki/Q497904) | [Conrad II, Duke of Znojmo](https://www.wikidata.org/wiki/Q2422406), [Maria of Rascia, Duchess of Znojmo](https://www.wikidata.org/wiki/Q3512524) | Wikidata is correct\n",
        "[Artem Sergeev](https://www.wikidata.org/wiki/Q4416801) | [Joseph Stalin](https://www.wikidata.org/wiki/Q855) | [Fyodor Sergeyev](https://www.wikidata.org/wiki/Q1332918) | Adopted by Stalin\n",
        "[Sidney Herbert, 1st Baron Herbert of Lea](https://www.wikidata.org/wiki/Q337595) | [Henry Herbert, 10th Earl of Pembroke](https://www.wikidata.org/wiki/Q4111579) | [George Herbert, 11th Earl of Pembroke](https://www.wikidata.org/wiki/Q4111755) | Wikidata is correct\n",
        "[Poul Henningsen](https://www.wikidata.org/wiki/Q1928794) | [Carl Ewald](https://www.wikidata.org/wiki/Q1645523) | [Carl Ewald](https://www.wikidata.org/wiki/Q16851063), [Agnes Henningsen](https://www.wikidata.org/wiki/Q4953603) | Wikidata should merge\n",
        "[Gaston II de Foix, Count of Candale](https://www.wikidata.org/wiki/Q840422) | [Jean I de Foix-Grailly, Earl of Kendal](https://www.wikidata.org/wiki/Q3175397) | [Jean I de Foix-Grailly, Earl of Kendal](https://www.wikidata.org/wiki/Q1058346) | redirect, both correct\n"
      ]
    },
    {
      "cell_type": "code",
      "metadata": {
        "id": "-ypipWNiRdbI",
        "colab_type": "code",
        "outputId": "59691028-bc6c-41df-efda-7b6da95987e5",
        "colab": {
          "base_uri": "https://localhost:8080/",
          "height": 221
        }
      },
      "source": [
        "print_wins(fbparent, wdparent, 10)"
      ],
      "execution_count": 32,
      "outputs": [
        {
          "output_type": "stream",
          "text": [
            "Child|Parent|Assessment\n",
            "--|--|--\n",
            "[Oliver Bozanic](https://www.wikidata.org/wiki/Q446832) | [Vic Bozanic](https://www.wikidata.org/wiki/Q7924746) |\n",
            "[John Cox Stevens](https://www.wikidata.org/wiki/Q1699675) | [John Stevens](https://www.wikidata.org/wiki/Q245774) |\n",
            "[Francis Grose](https://www.wikidata.org/wiki/Q1441518) | [Francis Grose](https://www.wikidata.org/wiki/Q4150369) |\n",
            "[Cymphonique Miller](https://www.wikidata.org/wiki/Q515562) | [Master P](https://www.wikidata.org/wiki/Q722042) |\n",
            "[Solomon Van Rensselaer](https://www.wikidata.org/wiki/Q1108131) | [Jeremiah Van Rensselaer](https://www.wikidata.org/wiki/Q1687548) |\n",
            "[Mattia Gavazzi](https://www.wikidata.org/wiki/Q1368124) | [Pierino Gavazzi](https://www.wikidata.org/wiki/Q280515) |\n",
            "[Maxwell Aitken, 3rd Baron Beaverbrook](https://www.wikidata.org/wiki/Q254422) | [Sir Max Aitken, 2nd Baronet](https://www.wikidata.org/wiki/Q7528323) |\n",
            "[Ricardo Sousa](https://www.wikidata.org/wiki/Q325599) | [António Sousa](https://www.wikidata.org/wiki/Q611428) |\n",
            "[Papa Eftim II](https://www.wikidata.org/wiki/Q46114) | [Papa Eftim I](https://www.wikidata.org/wiki/Q7132330) |\n",
            "[Donal McCann](https://www.wikidata.org/wiki/Q437907) | [John McCann](https://www.wikidata.org/wiki/Q1575554) |\n"
          ],
          "name": "stdout"
        }
      ]
    },
    {
      "cell_type": "markdown",
      "metadata": {
        "id": "sCjx1SN4Rkbp",
        "colab_type": "text"
      },
      "source": [
        "Child|Parent|Assessment\n",
        "--|--|--\n",
        "[Merlin Hay, 24th Earl of Erroll](https://www.wikidata.org/wiki/Q1921921) | [Iain Moncreiffe](https://www.wikidata.org/wiki/Q12486185) | Correct\n",
        "[Bernardino II da Polenta](https://www.wikidata.org/wiki/Q2898895) | [Guido III da Polenta](https://www.wikidata.org/wiki/Q3119441) | Correct\n",
        "[Joyce Carey](https://www.wikidata.org/wiki/Q3951975) | [Gerald Lawrence](https://www.wikidata.org/wiki/Q5549330), [Lilian Braithwaite](https://www.wikidata.org/wiki/Q546467) | Correct\n",
        "[Thomas Riedl](https://www.wikidata.org/wiki/Q1360508) | [Johannes Riedl](https://www.wikidata.org/wiki/Q1698249) | Correct\n",
        "[Mario Diaz-Balart](https://www.wikidata.org/wiki/Q767270) | [Rafael Díaz-Balart](https://www.wikidata.org/wiki/Q2126946) | Correct\n",
        "[David Douglas-Home, 15th Earl of Home](https://www.wikidata.org/wiki/Q335945) | [Elizabeth Douglas-Home, Baroness Home of the Hirsel](https://www.wikidata.org/wiki/Q3051212) | Correct\n",
        "[Alec Dankworth](https://www.wikidata.org/wiki/Q448220) | [John Dankworth](https://www.wikidata.org/wiki/Q498897) | Correct\n",
        "[Theodor Kotschy](https://www.wikidata.org/wiki/Q113299) | [Carl Friedrich Kotschy](https://www.wikidata.org/wiki/Q86842) | Correct\n",
        "[Björn Bjarnason](https://www.wikidata.org/wiki/Q879568) | [Bjarni Benediktsson](https://www.wikidata.org/wiki/Q561818) | Correct\n",
        "[Alexander Duncker](https://www.wikidata.org/wiki/Q72963) | [Karel Halíř](https://www.wikidata.org/wiki/Q515310) | Wrong"
      ]
    },
    {
      "cell_type": "markdown",
      "metadata": {
        "id": "h76S79vkfUxG",
        "colab_type": "text"
      },
      "source": [
        "# Related work\n",
        "\n",
        "As stated, this notebook looks at a very narrow slice of the possible quality metrics relevant for knowledge bases. We refer to the following papers for more comprehensive views and comparisons.\n",
        "* Färber, Michael, Basil Ell and Carsten Menne. “A Comparative Survey of DBpedia , Freebase , OpenCyc , Wikidata , and YAGO.” (2015). [[pdf]](http://www.semantic-web-journal.net/system/files/swj1141.pdf)\n",
        "* Färber, Michael, Frederic Bartscherer, Carsten Menne and Achim Rettinger. “Linked data quality of DBpedia, Freebase, OpenCyc, Wikidata, and YAGO.” Semantic Web 9 (2017): 77-129. [[pdf]](http://www.aifb.kit.edu/images/c/ca/KG-Comparison-SWJ-Article.pdf)\n",
        "* Piscopo, Alessandro, Chris Phethean and Elena Paslaru Bontas Simperl. “What Makes a Good Collaborative Knowledge Graph: Group Composition and Quality in Wikidata.” SocInfo (2017). [[pdf]](https://eprints.soton.ac.uk/414464/1/wd_groups.pdf)\n",
        "* Paulheim, Heiko. “Knowledge graph refinement: A survey of approaches and evaluation methods.” Semantic Web 8 (2016): 489-508. [[pdf]](https://pdfs.semanticscholar.org/93b6/329091e215b9ef007a85c07635f09e7b8adb.pdf?_ga=2.268361933.29802340.1560895488-1012399919.1560895488)\n",
        "* Zaveri, Amrapali, Anisa Rula, Andrea Maurino, Ricardo Pietrobon, Jens Lehmann and Sören Auer. “Quality assessment for Linked Data: A Survey.” Semantic Web 7 (2015): 63-93. [[link]](https://content.iospress.com/articles/semantic-web/sw175)"
      ]
    },
    {
      "cell_type": "markdown",
      "metadata": {
        "id": "ty7WCl7uaYgg",
        "colab_type": "text"
      },
      "source": [
        "# Conclusions and next steps\n",
        "\n",
        "We can easily see that almost all the datasets provide opportunities to grow Wikidata further. It also shows that it seems that the approach currently done by the community with [Harvest Templates](https://tools.wmflabs.org/pltools/harvesttemplates/) is smart: instead of loading large, heterogenous datasets, focus on a single template, a single language edition, etc.\n",
        "\n",
        "We suggest to approach this data similarly: we should look at each DBpedia chapter by chapter, predicate by predicate, and map the data. With the community we need to discuss which process to follow. The three main options are:\n",
        "* use one of the existing tools to upload data for manual, collaborative inspection\n",
        "* use a batch upload if the quality seems so good that the collaborative extraction would be just unneccesary work\n",
        "* drop a dataset because the quality of the data is so low that it is too much work to sift for good data\n",
        "\n",
        "If possible, we should further clean up the data - the Fusion data would increase considerably in accuracy by using a domain and range constraint check (which seems to be planned anyway).\n",
        "\n",
        "The next steps are:\n",
        "1. agree with the community on how to use the data\n",
        "2. analyze other predicates\n",
        "\n",
        "My personal, and entirely biased conclusions are:\n",
        "1. Wikidata has a higher coverage and a higher accuracy than other available open knowledge base.\n",
        "2. DBpedia offers a growing support for processes and workflows on top of Wikidata and the Wikipedia extractions, which allow for novel and powerful uses.\n",
        "3. DBpedia is managing to pivot to a new role, as can be seen by how they focus their work: DBpedia is adding a lot of extraction, validation, and other value-added work on top of Wikipedia and Wikidata.\n",
        "4. The value proposition DBpedia offers to Wikidata and Wikipedia has not yet been fully realized. More cooperation between the two communities would be beneficial for both sides.\n",
        "5. Freebase has still a surprising amount of knowledge to offer, and should be more systematically harvested by the Wikidata community.\n"
      ]
    }
  ]
}